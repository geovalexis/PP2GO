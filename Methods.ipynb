{
  "nbformat": 4,
  "nbformat_minor": 0,
  "metadata": {
    "colab": {
      "name": "Methods",
      "provenance": [],
      "collapsed_sections": [],
      "toc_visible": true,
      "mount_file_id": "https://github.com/geovalexis/TFG/blob/main/Methods.ipynb",
      "authorship_tag": "ABX9TyNyJDqE3jozZiNw/Z51hzuw",
      "include_colab_link": true
    },
    "kernelspec": {
      "name": "python3",
      "display_name": "Python 3"
    }
  },
  "cells": [
    {
      "cell_type": "markdown",
      "metadata": {
        "id": "view-in-github",
        "colab_type": "text"
      },
      "source": [
        "<a href=\"https://colab.research.google.com/github/geovalexis/TFG/blob/main/Methods.ipynb\" target=\"_parent\"><img src=\"https://colab.research.google.com/assets/colab-badge.svg\" alt=\"Open In Colab\"/></a>"
      ]
    },
    {
      "cell_type": "markdown",
      "metadata": {
        "id": "cK0X3-0albKk"
      },
      "source": [
        "# Data retrievement\r\n"
      ]
    },
    {
      "cell_type": "markdown",
      "metadata": {
        "id": "XDN_BGzZmZ-W"
      },
      "source": [
        "## Proteome reference Dataset"
      ]
    },
    {
      "cell_type": "code",
      "metadata": {
        "colab": {
          "base_uri": "https://localhost:8080/"
        },
        "id": "LvWYEibGme8V",
        "outputId": "37f12afb-050c-4db8-ad84-248c959c2e41"
      },
      "source": [
        "# Quest for Orthologs (QfO) dataset\r\n",
        "!ls drive/MyDrive/TFG/QFO_2018/\r\n",
        "\r\n",
        "# Human dataset\r\n",
        "!pip install biopython\r\n",
        "from Bio import SeqIO\r\n",
        "import pandas as pd\r\n",
        "records = list(SeqIO.parse(\"drive/MyDrive/TFG/QFO_2018/UP000005640_9606.xml\", \"seqxml\"))\r\n",
        "records_ids = [record.id for record in records]\r\n",
        "df_records_ids = pd.DataFrame(records_ids)\r\n",
        "df_records_ids.to_csv(\"drive/MyDrive/TFG/human_uniprotIDs.tsv\", sep=\"\\t\", index=False, header=False)\r\n",
        "!head drive/MyDrive/TFG/human_uniprotIDs.tsv"
      ],
      "execution_count": 2,
      "outputs": [
        {
          "output_type": "stream",
          "text": [
            "UP000005640_9606.fasta\t   UP000005640_9606.idmapping\n",
            "UP000005640_9606.gene2acc  UP000005640_9606.xml\n",
            "Requirement already satisfied: biopython in /usr/local/lib/python3.6/dist-packages (1.78)\n",
            "Requirement already satisfied: numpy in /usr/local/lib/python3.6/dist-packages (from biopython) (1.19.4)\n",
            "A0A024R161\n",
            "A0A024R1R8\n",
            "A0A075B6F4\n",
            "A0A075B6H5\n",
            "A0A075B6H7\n",
            "A0A075B6H8\n",
            "A0A075B6H9\n",
            "A0A075B6I0\n",
            "A0A075B6I1\n",
            "A0A075B6I3\n"
          ],
          "name": "stdout"
        }
      ]
    },
    {
      "cell_type": "markdown",
      "metadata": {
        "id": "5FqNREOFllIE"
      },
      "source": [
        "## Orthologs retrievement"
      ]
    },
    {
      "cell_type": "markdown",
      "metadata": {
        "id": "_wZLjP70mSxB"
      },
      "source": [
        "### From MetaPhors"
      ]
    },
    {
      "cell_type": "code",
      "metadata": {
        "id": "5KIl-9ivv9bt",
        "colab": {
          "base_uri": "https://localhost:8080/"
        },
        "outputId": "e354b325-8ea2-42f7-b5cd-4c3a1d8919a1"
      },
      "source": [
        "!ls drive/MyDrive/TFG/QfO_input.tsv #Orthologs input for QfO"
      ],
      "execution_count": null,
      "outputs": [
        {
          "output_type": "stream",
          "text": [
            "drive/MyDrive/TFG/QfO_input.tsv\n"
          ],
          "name": "stdout"
        }
      ]
    },
    {
      "cell_type": "markdown",
      "metadata": {
        "id": "SvwQYvrKARf-"
      },
      "source": [
        "## Matrix"
      ]
    },
    {
      "cell_type": "markdown",
      "metadata": {
        "id": "J465mmU6Ei9i"
      },
      "source": [
        "### MetaPhOrs orthologs between homo sapiens and the other 78 reference species from the Quest for Orthologs\r\n"
      ]
    },
    {
      "cell_type": "code",
      "metadata": {
        "colab": {
          "base_uri": "https://localhost:8080/"
        },
        "id": "JBb7HJW5AlSb",
        "outputId": "1a0983f5-0d3a-4202-db95-2666aaef35e8"
      },
      "source": [
        "import pandas as pd\r\n",
        "\r\n",
        "mtp_orthologs = pd.read_csv(\"drive/MyDrive/TFG/QfO_input.tsv\", sep=\"\\t\", names=[\"protein1\", \"protein2\"])\r\n",
        "qfo_ref_human_proteome = pd.read_csv(\"drive/MyDrive/TFG/human_uniprotIDs.tsv\", sep=\"\\t\", names=[\"protein1\"])\r\n",
        "print(\"Total size of the orthologs file from MetaPhOrs:\", mtp_orthologs.size)\r\n",
        "print(\"Number of reference proteins (from QfO):\", qfo_ref_human_proteome.size)\r\n",
        "ref_protein_mtp = pd.merge(mtp_orthologs, qfo_ref_human_proteome, how=\"inner\", on=\"protein1\")\r\n",
        "print(\"Size of the resulting inner join between the two datasets:\", ref_protein_mtp.size)\r\n",
        "print(\"Actual number of reference Homo Sapiens proteins within MetaPhOrs:\", ref_protein_mtp[\"protein1\"].unique().size)\r\n",
        "print(\"First 10 rows:\\n\", ref_protein_mtp.head(10))\r\n",
        "#ref_protein_mtp.drop_duplicates() # There just around 200 repeated rows but I think that they correspond to the orthologs within the same specie (Homo sapiens in this case) -> diagonal\r\n"
      ],
      "execution_count": 29,
      "outputs": [
        {
          "output_type": "stream",
          "text": [
            "Total size of the orthologs file from MetaPhOrs: 7898268\n",
            "Number of reference proteins (from QfO): 20996\n",
            "Size of the resulting inner join between the two datasets: 139718\n",
            "Actual number of reference Homo Sapiens proteins within MetaPhOrs: 5254\n",
            "First 10 rows:\n",
            "   protein1    protein2\n",
            "0   Q8ND71      Q7ZAM9\n",
            "1   Q8ND71      Q6CDT3\n",
            "2   Q8ND71      A2ESR8\n",
            "3   Q8ND71      A2E1H0\n",
            "4   Q8ND71      A2FTJ3\n",
            "5   Q8ND71      A2FTJ2\n",
            "6   Q8ND71      G3S4T9\n",
            "7   Q8ND71  A0A2I3SJI4\n",
            "8   Q8ND71      H2R4V7\n",
            "9   P15170      Q8F6D0\n"
          ],
          "name": "stdout"
        }
      ]
    },
    {
      "cell_type": "markdown",
      "metadata": {
        "id": "rju4xu5XxDrv"
      },
      "source": [
        "#Phylogenetic Profiling (PP)\r\n"
      ]
    },
    {
      "cell_type": "code",
      "metadata": {
        "id": "skFCvJ4CxRSo"
      },
      "source": [
        ""
      ],
      "execution_count": null,
      "outputs": []
    }
  ]
}