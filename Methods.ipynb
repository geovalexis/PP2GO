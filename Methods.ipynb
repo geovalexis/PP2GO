{
  "nbformat": 4,
  "nbformat_minor": 0,
  "metadata": {
    "colab": {
      "name": "Methods",
      "provenance": [],
      "collapsed_sections": [],
      "toc_visible": true,
      "mount_file_id": "https://github.com/geovalexis/TFG/blob/main/Methods.ipynb",
      "authorship_tag": "ABX9TyMdCS5EYQD6tAUchkfM6n7c",
      "include_colab_link": true
    },
    "kernelspec": {
      "name": "python3",
      "display_name": "Python 3"
    }
  },
  "cells": [
    {
      "cell_type": "markdown",
      "metadata": {
        "id": "view-in-github",
        "colab_type": "text"
      },
      "source": [
        "<a href=\"https://colab.research.google.com/github/geovalexis/TFG/blob/main/Methods.ipynb\" target=\"_parent\"><img src=\"https://colab.research.google.com/assets/colab-badge.svg\" alt=\"Open In Colab\"/></a>"
      ]
    },
    {
      "cell_type": "markdown",
      "metadata": {
        "id": "cK0X3-0albKk"
      },
      "source": [
        "# Data retrievement\r\n"
      ]
    },
    {
      "cell_type": "markdown",
      "metadata": {
        "id": "XDN_BGzZmZ-W"
      },
      "source": [
        "## Reference Dataset"
      ]
    },
    {
      "cell_type": "code",
      "metadata": {
        "colab": {
          "base_uri": "https://localhost:8080/"
        },
        "id": "LvWYEibGme8V",
        "outputId": "f5e6a673-f5df-4b23-fed5-ba0bf04aeee1"
      },
      "source": [
        "# Quest for Orthologs (QfO) dataset\r\n",
        "!ls drive/MyDrive/TFG/QFO_2018/\r\n",
        "\r\n",
        "# Human dataset\r\n",
        "!pip install biopython\r\n",
        "from Bio import SeqIO\r\n",
        "import pandas as pd\r\n",
        "records = list(SeqIO.parse(\"drive/MyDrive/TFG/QFO_2018/UP000005640_9606.xml\", \"seqxml\"))\r\n",
        "records_ids = [record.id for record in records]\r\n",
        "df_records_ids = pd.DataFrame(records_ids)\r\n",
        "df_records_ids.to_csv(\"human_uniprotIDs.tsv\", sep=\"\\t\", index=False, header=False)\r\n",
        "!head human_uniprotIDs.tsv"
      ],
      "execution_count": 21,
      "outputs": [
        {
          "output_type": "stream",
          "text": [
            "UP000005640_9606.fasta\t   UP000005640_9606.idmapping\n",
            "UP000005640_9606.gene2acc  UP000005640_9606.xml\n",
            "Requirement already satisfied: biopython in /usr/local/lib/python3.6/dist-packages (1.78)\n",
            "Requirement already satisfied: numpy in /usr/local/lib/python3.6/dist-packages (from biopython) (1.19.4)\n",
            "A0A024R161\n",
            "A0A024R1R8\n",
            "A0A075B6F4\n",
            "A0A075B6H5\n",
            "A0A075B6H7\n",
            "A0A075B6H8\n",
            "A0A075B6H9\n",
            "A0A075B6I0\n",
            "A0A075B6I1\n",
            "A0A075B6I3\n"
          ],
          "name": "stdout"
        }
      ]
    },
    {
      "cell_type": "code",
      "metadata": {
        "id": "lhZ5Ujuhv9yW"
      },
      "source": [
        ""
      ],
      "execution_count": null,
      "outputs": []
    },
    {
      "cell_type": "markdown",
      "metadata": {
        "id": "5FqNREOFllIE"
      },
      "source": [
        "## Orthologs retrievement"
      ]
    },
    {
      "cell_type": "markdown",
      "metadata": {
        "id": "_wZLjP70mSxB"
      },
      "source": [
        "### From MetaPhors"
      ]
    },
    {
      "cell_type": "code",
      "metadata": {
        "id": "5KIl-9ivv9bt",
        "colab": {
          "base_uri": "https://localhost:8080/"
        },
        "outputId": "e354b325-8ea2-42f7-b5cd-4c3a1d8919a1"
      },
      "source": [
        "!ls drive/MyDrive/TFG/QfO_input.tsv #Orthologs input for QfO"
      ],
      "execution_count": 7,
      "outputs": [
        {
          "output_type": "stream",
          "text": [
            "drive/MyDrive/TFG/QfO_input.tsv\n"
          ],
          "name": "stdout"
        }
      ]
    },
    {
      "cell_type": "markdown",
      "metadata": {
        "id": "rju4xu5XxDrv"
      },
      "source": [
        "#Phylogenetic Profiling (PP)\r\n"
      ]
    },
    {
      "cell_type": "code",
      "metadata": {
        "id": "skFCvJ4CxRSo"
      },
      "source": [
        ""
      ],
      "execution_count": null,
      "outputs": []
    }
  ]
}