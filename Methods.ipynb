{
  "nbformat": 4,
  "nbformat_minor": 0,
  "metadata": {
    "colab": {
      "name": "Methods",
      "provenance": [],
      "collapsed_sections": [],
      "toc_visible": true,
      "mount_file_id": "https://github.com/geovalexis/TFG/blob/main/Methods.ipynb",
      "authorship_tag": "ABX9TyMamQrF056TW43QJsM9SV/h",
      "include_colab_link": true
    },
    "kernelspec": {
      "name": "python3",
      "display_name": "Python 3"
    }
  },
  "cells": [
    {
      "cell_type": "markdown",
      "metadata": {
        "id": "view-in-github",
        "colab_type": "text"
      },
      "source": [
        "<a href=\"https://colab.research.google.com/github/geovalexis/TFG/blob/main/Methods.ipynb\" target=\"_parent\"><img src=\"https://colab.research.google.com/assets/colab-badge.svg\" alt=\"Open In Colab\"/></a>"
      ]
    },
    {
      "cell_type": "markdown",
      "metadata": {
        "id": "cK0X3-0albKk"
      },
      "source": [
        "# Data retrievement\r\n"
      ]
    },
    {
      "cell_type": "markdown",
      "metadata": {
        "id": "XDN_BGzZmZ-W"
      },
      "source": [
        "## Proteome reference Dataset"
      ]
    },
    {
      "cell_type": "code",
      "metadata": {
        "colab": {
          "base_uri": "https://localhost:8080/"
        },
        "id": "LvWYEibGme8V",
        "outputId": "dd0135ec-8561-44df-c93d-d4c87f0657a7"
      },
      "source": [
        "# Quest for Orthologs (QfO) dataset\r\n",
        "!ls drive/MyDrive/TFG/QFO_2018/\r\n",
        "\r\n",
        "# QfO species and statistics\r\n",
        "# We got this information from README file of the QfO release \r\n",
        "# It was formatted into a tabulated file by the following command: \r\n",
        "# cat QfO_statistics.txt | tr -s ' ' | cut -f1-6 -d\" \" | tr ' ' '\\t' > QfO_statistics.tsv\r\n",
        "!ls drive/MyDrive/TFG/QFO_2018/QfO_statistics.tsv\r\n",
        "\r\n",
        "# Human dataset\r\n",
        "!pip install biopython\r\n",
        "from Bio import SeqIO\r\n",
        "import pandas as pd\r\n",
        "records = list(SeqIO.parse(\"drive/MyDrive/TFG/QFO_2018/UP000005640_9606.xml\", \"seqxml\"))\r\n",
        "records_ids = [record.id for record in records]\r\n",
        "df_records_ids = pd.DataFrame(records_ids)\r\n",
        "df_records_ids.to_csv(\"drive/MyDrive/TFG/human_uniprotIDs.tsv\", sep=\"\\t\", index=False, header=False)\r\n",
        "!head drive/MyDrive/TFG/human_uniprotIDs.tsv\r\n",
        "\r\n"
      ],
      "execution_count": 5,
      "outputs": [
        {
          "output_type": "stream",
          "text": [
            "QfO_statistics.tsv  UP000005640_9606.fasta     UP000005640_9606.idmapping\n",
            "README\t\t    UP000005640_9606.gene2acc  UP000005640_9606.xml\n",
            "drive/MyDrive/TFG/QFO_2018/QfO_statistics.tsv\n",
            "Collecting biopython\n",
            "\u001b[?25l  Downloading https://files.pythonhosted.org/packages/76/02/8b606c4aa92ff61b5eda71d23b499ab1de57d5e818be33f77b01a6f435a8/biopython-1.78-cp36-cp36m-manylinux1_x86_64.whl (2.3MB)\n",
            "\u001b[K     |████████████████████████████████| 2.3MB 4.7MB/s \n",
            "\u001b[?25hRequirement already satisfied: numpy in /usr/local/lib/python3.6/dist-packages (from biopython) (1.19.4)\n",
            "Installing collected packages: biopython\n",
            "Successfully installed biopython-1.78\n",
            "A0A024R161\n",
            "A0A024R1R8\n",
            "A0A075B6F4\n",
            "A0A075B6H5\n",
            "A0A075B6H7\n",
            "A0A075B6H8\n",
            "A0A075B6H9\n",
            "A0A075B6I0\n",
            "A0A075B6I1\n",
            "A0A075B6I3\n"
          ],
          "name": "stdout"
        }
      ]
    },
    {
      "cell_type": "code",
      "metadata": {
        "id": "o8QTtJc-Dcgu",
        "outputId": "73406b48-53e3-4389-8c0a-a2c456fc3201",
        "colab": {
          "base_uri": "https://localhost:8080/"
        }
      },
      "source": [
        "# Get species taxIDs from QfO\r\n",
        "\r\n",
        "!pip install --upgrade ete3\r\n",
        "from ete3 import NCBITaxa\r\n",
        "import pandas as pd\r\n",
        "\r\n",
        "QfO_reference_taxa = pd.read_csv(\"drive/MyDrive/TFG/QFO_2018/QfO_statistics.tsv\", sep=\"\\t\")\r\n",
        "QfO_reference_species = [getSpecie(QfO_reference_taxa.Tax_ID[i]) for i in range(QfO_reference_taxa.Tax_ID.size)]\r\n",
        "QfO_reference_species = pd.DataFrame(QfO_reference_species, columns=[\"taxID\", \"species_name\"])\r\n",
        "QfO_reference_species.to_csv(\"drive/MyDrive/TFG/QfO_reference_species.tsv\", sep=\"\\t\", header=True, index=False)\r\n",
        "\r\n",
        "# Snippet got from mapQfO2MtP.py (Gabaldonlab/qfo-2020 repo) but slightly modified to also output specie's name\r\n",
        "def getSpecie(taxID: int):\r\n",
        "    \"\"\"This function searches the corresponding specie taxID for a given strain or subspecie taxID (MUST BE AN INTEGER) in the NCBI database. \r\n",
        "    Args:\r\n",
        "        taxID (int): taxID of the taxon of interest.\r\n",
        "    Returns:\r\n",
        "        specieID (int): taxID of the corresponding specie.\r\n",
        "    \"\"\"\r\n",
        "    \r\n",
        "    ncbi = NCBITaxa()\r\n",
        "    #ncbi.update_taxonomy_database() \r\n",
        "    \r\n",
        "    specieID = taxID # If the taxID is already a specie it will return the same taxID\r\n",
        "    if ncbi.get_rank([taxID])[taxID] != 'species':\r\n",
        "        lineage = ncbi.get_lineage(taxID)\r\n",
        "        for j in reversed(lineage): #Reverse because it's faster when it's a strain or subspecie\r\n",
        "            if ncbi.get_rank([j])[j] == 'species':\r\n",
        "                specieID = j\r\n",
        "    species_name = ncbi.get_taxid_translator([specieID])[specieID]\r\n",
        "    return specieID, species_name"
      ],
      "execution_count": 25,
      "outputs": [
        {
          "output_type": "stream",
          "text": [
            "Requirement already up-to-date: ete3 in /usr/local/lib/python3.6/dist-packages (3.1.2)\n"
          ],
          "name": "stdout"
        }
      ]
    },
    {
      "cell_type": "markdown",
      "metadata": {
        "id": "5FqNREOFllIE"
      },
      "source": [
        "## Orthologs retrievement"
      ]
    },
    {
      "cell_type": "markdown",
      "metadata": {
        "id": "_wZLjP70mSxB"
      },
      "source": [
        "### From MetaPhors"
      ]
    },
    {
      "cell_type": "code",
      "metadata": {
        "id": "5KIl-9ivv9bt",
        "colab": {
          "base_uri": "https://localhost:8080/"
        },
        "outputId": "e354b325-8ea2-42f7-b5cd-4c3a1d8919a1"
      },
      "source": [
        "!ls drive/MyDrive/TFG/QfO_input.tsv #Orthologs input for QfO"
      ],
      "execution_count": null,
      "outputs": [
        {
          "output_type": "stream",
          "text": [
            "drive/MyDrive/TFG/QfO_input.tsv\n"
          ],
          "name": "stdout"
        }
      ]
    },
    {
      "cell_type": "markdown",
      "metadata": {
        "id": "SvwQYvrKARf-"
      },
      "source": [
        "## Matrix"
      ]
    },
    {
      "cell_type": "markdown",
      "metadata": {
        "id": "J465mmU6Ei9i"
      },
      "source": [
        "### MetaPhOrs orthologs between homo sapiens and the other 78 reference species from the Quest for Orthologs\r\n"
      ]
    },
    {
      "cell_type": "code",
      "metadata": {
        "colab": {
          "base_uri": "https://localhost:8080/"
        },
        "id": "JBb7HJW5AlSb",
        "outputId": "875bae66-54db-45d1-edaa-f3369bad3318"
      },
      "source": [
        "import pandas as pd\r\n",
        "\r\n",
        "mtp_orthologs = pd.read_csv(\"drive/MyDrive/TFG/QfO_input.tsv\", sep=\"\\t\", names=[\"protein1\", \"protein2\"])\r\n",
        "qfo_ref_human_proteome = pd.read_csv(\"drive/MyDrive/TFG/human_uniprotIDs.tsv\", sep=\"\\t\", names=[\"protein1\"])\r\n",
        "print(\"Total size of the orthologs file from MetaPhOrs:\", mtp_orthologs.size)\r\n",
        "print(\"Number of reference proteins (from QfO):\", qfo_ref_human_proteome.size)\r\n",
        "ref_protein_mtp = pd.merge(mtp_orthologs, qfo_ref_human_proteome, how=\"inner\", on=\"protein1\")\r\n",
        "print(\"Size of the resulting inner join between the two datasets:\", ref_protein_mtp.size)\r\n",
        "print(\"Actual number of reference Homo Sapiens proteins within MetaPhOrs:\", ref_protein_mtp[\"protein1\"].unique().size)\r\n",
        "print(\"First 10 rows:\\n\", ref_protein_mtp.head(10))\r\n",
        "#ref_protein_mtp.drop_duplicates() # There just around 200 repeated rows but I think that they correspond to the orthologs within the same specie (Homo sapiens in this case) -> diagonal\r\n",
        "ref_protein_mtp.to_csv(\"drive/MyDrive/TFG/human_orthologs_MtP.tsv\", sep=\"\\t\", index=False, header=False)\r\n",
        "pd.DataFrame(ref_protein_mtp[\"protein1\"].unique()).to_csv(\"drive/MyDrive/TFG/human_reference_proteins_MtP.tsv\", sep=\"\\t\", index=False, header=False)\r\n",
        "#TODO: map taxIDs to proteins 2"
      ],
      "execution_count": null,
      "outputs": [
        {
          "output_type": "stream",
          "text": [
            "Total size of the orthologs file from MetaPhOrs: 7898268\n",
            "Number of reference proteins (from QfO): 20996\n",
            "Size of the resulting inner join between the two datasets: 139718\n",
            "Actual number of reference Homo Sapiens proteins within MetaPhOrs: 5254\n",
            "First 10 rows:\n",
            "   protein1    protein2\n",
            "0   Q8ND71      Q7ZAM9\n",
            "1   Q8ND71      Q6CDT3\n",
            "2   Q8ND71      A2ESR8\n",
            "3   Q8ND71      A2E1H0\n",
            "4   Q8ND71      A2FTJ3\n",
            "5   Q8ND71      A2FTJ2\n",
            "6   Q8ND71      G3S4T9\n",
            "7   Q8ND71  A0A2I3SJI4\n",
            "8   Q8ND71      H2R4V7\n",
            "9   P15170      Q8F6D0\n"
          ],
          "name": "stdout"
        }
      ]
    },
    {
      "cell_type": "markdown",
      "metadata": {
        "id": "rju4xu5XxDrv"
      },
      "source": [
        "#Phylogenetic Profiling (PP)\r\n"
      ]
    },
    {
      "cell_type": "code",
      "metadata": {
        "id": "skFCvJ4CxRSo"
      },
      "source": [
        ""
      ],
      "execution_count": null,
      "outputs": []
    }
  ]
}