{
  "nbformat": 4,
  "nbformat_minor": 0,
  "metadata": {
    "colab": {
      "name": "Methods",
      "provenance": [],
      "collapsed_sections": [],
      "toc_visible": true,
      "mount_file_id": "https://github.com/geovalexis/TFG/blob/main/Methods.ipynb",
      "authorship_tag": "ABX9TyOnsCfby0sQyx8pe7qQKPhd",
      "include_colab_link": true
    },
    "kernelspec": {
      "name": "python3",
      "display_name": "Python 3"
    }
  },
  "cells": [
    {
      "cell_type": "markdown",
      "metadata": {
        "id": "view-in-github",
        "colab_type": "text"
      },
      "source": [
        "<a href=\"https://colab.research.google.com/github/geovalexis/TFG/blob/main/Methods.ipynb\" target=\"_parent\"><img src=\"https://colab.research.google.com/assets/colab-badge.svg\" alt=\"Open In Colab\"/></a>"
      ]
    },
    {
      "cell_type": "markdown",
      "metadata": {
        "id": "abfJ95VeMV0y"
      },
      "source": [
        "# Current resources information\r\n",
        "\r\n"
      ]
    },
    {
      "cell_type": "code",
      "metadata": {
        "colab": {
          "base_uri": "https://localhost:8080/"
        },
        "id": "DBsFu4UBMeYj",
        "outputId": "a0602dec-2215-4066-f69a-218b99c39269"
      },
      "source": [
        "!head -15 /proc/cpuinfo\r\n",
        "import threading\r\n",
        "print(\"\\nNumber of active threads:\", threading.active_count())"
      ],
      "execution_count": null,
      "outputs": [
        {
          "output_type": "stream",
          "text": [
            "processor\t: 0\n",
            "vendor_id\t: GenuineIntel\n",
            "cpu family\t: 6\n",
            "model\t\t: 79\n",
            "model name\t: Intel(R) Xeon(R) CPU @ 2.20GHz\n",
            "stepping\t: 0\n",
            "microcode\t: 0x1\n",
            "cpu MHz\t\t: 2199.998\n",
            "cache size\t: 56320 KB\n",
            "physical id\t: 0\n",
            "siblings\t: 2\n",
            "core id\t\t: 0\n",
            "cpu cores\t: 1\n",
            "apicid\t\t: 0\n",
            "initial apicid\t: 0\n",
            "\n",
            "Number of active threads: 15\n"
          ],
          "name": "stdout"
        }
      ]
    },
    {
      "cell_type": "markdown",
      "metadata": {
        "id": "cK0X3-0albKk"
      },
      "source": [
        "# Data retrievement\r\n"
      ]
    },
    {
      "cell_type": "markdown",
      "metadata": {
        "id": "XDN_BGzZmZ-W"
      },
      "source": [
        "## Reference Proteome Dataset"
      ]
    },
    {
      "cell_type": "code",
      "metadata": {
        "colab": {
          "base_uri": "https://localhost:8080/"
        },
        "id": "LvWYEibGme8V",
        "outputId": "dd0135ec-8561-44df-c93d-d4c87f0657a7"
      },
      "source": [
        "# Quest for Orthologs (QfO) dataset\r\n",
        "!ls drive/MyDrive/TFG/QFO_2018/\r\n",
        "\r\n",
        "# DEPRECATED\r\n",
        "# QfO species and statistics\r\n",
        "# We got this information from README file of the QfO release \r\n",
        "# It was formatted into a tabulated file by the following command: \r\n",
        "# cat QfO_statistics.txt | tr -s ' ' | cut -f1-6 -d\" \" | tr ' ' '\\t' > QfO_statistics.tsv\r\n",
        "!ls drive/MyDrive/TFG/QFO_2018/QfO_statistics.tsv\r\n"
      ],
      "execution_count": null,
      "outputs": [
        {
          "output_type": "stream",
          "text": [
            "QfO_statistics.tsv  UP000005640_9606.fasta     UP000005640_9606.idmapping\n",
            "README\t\t    UP000005640_9606.gene2acc  UP000005640_9606.xml\n",
            "drive/MyDrive/TFG/QFO_2018/QfO_statistics.tsv\n",
            "Collecting biopython\n",
            "\u001b[?25l  Downloading https://files.pythonhosted.org/packages/76/02/8b606c4aa92ff61b5eda71d23b499ab1de57d5e818be33f77b01a6f435a8/biopython-1.78-cp36-cp36m-manylinux1_x86_64.whl (2.3MB)\n",
            "\u001b[K     |████████████████████████████████| 2.3MB 4.7MB/s \n",
            "\u001b[?25hRequirement already satisfied: numpy in /usr/local/lib/python3.6/dist-packages (from biopython) (1.19.4)\n",
            "Installing collected packages: biopython\n",
            "Successfully installed biopython-1.78\n",
            "A0A024R161\n",
            "A0A024R1R8\n",
            "A0A075B6F4\n",
            "A0A075B6H5\n",
            "A0A075B6H7\n",
            "A0A075B6H8\n",
            "A0A075B6H9\n",
            "A0A075B6I0\n",
            "A0A075B6I1\n",
            "A0A075B6I3\n"
          ],
          "name": "stdout"
        }
      ]
    },
    {
      "cell_type": "code",
      "metadata": {
        "colab": {
          "base_uri": "https://localhost:8080/"
        },
        "id": "hFk-NLNNaZhq",
        "outputId": "d718fff9-58c6-448f-e17d-c4ac0da6f76b"
      },
      "source": [
        "# Get QfO species (taxIDs) and all their corresponding uniprotIDs available in the QfO database\r\n",
        "\r\n",
        "#!wget ftp://ftp.ebi.ac.uk/pub/databases/reference_proteomes/previous_releases/qfo_release-2018_04/QfO_release_2018_04.tar.gz \r\n",
        "#!tar -xvzf QfO_release_2018_04.tar.gz --one-top-level\r\n",
        "\r\n",
        "import os\r\n",
        "import pandas as pd\r\n",
        "qfoDir='./QfO_release_2018_04/'\r\n",
        "QfO_proteome = {}\r\n",
        "for subdir, dirs, files in os.walk(qfoDir):\r\n",
        "    for file in files:\r\n",
        "        if file.endswith(\".gene2acc\"):\r\n",
        "            taxID = file.split(\"_\")[1].split(\".\")[0]\r\n",
        "            QfO_proteome[taxID] = pd.read_csv(os.path.join(subdir, file), sep=\"\\t\", names=[\"GeneSymbol\", \"UniprotKB\", \"CanonicalGeneSymbol\"], usecols=[\"UniprotKB\"])[\"UniprotKB\"]\r\n",
        "QfO_proteome = pd.DataFrame(QfO_proteome)\r\n",
        "QfO_proteome.head()\r\n",
        "QfO_proteome.to_csv(\"drive/MyDrive/TFG/QFO_2018/QfO_uniprotKBs.tsv\", sep=\"\\t\", header=True, index=False)\r\n",
        "!head drive/MyDrive/TFG/QFO_2018/QfO_uniprotKBs.tsv"
      ],
      "execution_count": null,
      "outputs": [
        {
          "output_type": "stream",
          "text": [
            "243232\t188937\t273057\t69014\t64091\t374847\t436308\t243273\t251221\t1111708\t189518\t122586\t224911\t243230\t243231\t190304\t224324\t208964\t289376\t324602\t243090\t85962\t100226\t243274\t83332\t224308\t83333\t226186\t515635\t272561\t6412\t39947\t9031\t6239\t184922\t9595\t45351\t13616\t237561\t367110\t4577\t81824\t214684\t418459\t6945\t5888\t237631\t9913\t9615\t36329\t5664\t7165\t321614\t5722\t284591\t7070\t9606\t44689\t7918\t284812\t8364\t35128\t10116\t684364\t7955\t7739\t8090\t9598\t7227\t7719\t3055\t10090\t3702\t665079\t3218\t164328\t559292\t330879\n",
            "Q60328\tQ8TUR2\tQ97TX9\tP77933\tO51955\tB1L7D4\tA9A4Z2\tP47377\tQ7NPQ4\tP77971\tQ8FA34\tQ9K1R8\tQ89YF1\tQ9RYE8\tQ74GG6\tQ8RHA7\tO67904\tQ9I7C5\tB5YGS5\tA9WAN1\tQ7UZ97\tO24866\tO50499\tQ9WYH1\tP71591\tP05648\tP23843\tQ8ABV9\tB8DYG0\tO84004\tT1ECX9\tQ8RZL9\tP40666\tP34257\tA8B2Y5\tP30375\tA7S0L9\tQ28462\tA0A1D8PCG7\tP22702\tP19950\tA9V4W6\tQ5KQA0\tE3JPW3\tB7P404\tA0BAJ9\tQ0H8Y6\tQ2M2T3\tO97945\tQ25823\tQ01782\tQ7QEI4\tA7UG00\tA2GII8\tQ36258\tQ94R76\tQ6P435\tQ23890\tW5LV44\tQ9US57\tP84383\tB8BT19\tP01681\tF4NY12\tP0C8Y2\tO47426\tQ01798\tP30686\tQ8T8R6\tF7A355\tP35006\tP01753\tQ9SP32\tA7E3X9\tQ1XGB8\tH3G4X1\tP34111\tQ8X176\n",
            "Q60338\tQ8TUR1\tQ981E3\tQ5JEA6\tO51955\tB1L7D5\tA9A4Z3\tP47441\tQ7NPQ3\tQ55524\tQ8FA33\tQ9K1R7\tQ89YF0\tQ9RYE7\tQ74H91\tP68997\tO66428\tQ9I7C4\tB5YGS6\tA9WAN2\tQ7UKR2\tO24866\tO50500\tQ9WYH1\tP71591\tP05649\tP23843\tQ8ABV8\tB8DYG1\tO84005\tT1ECY0\tQ8RZL9\tP40665\tQ11075\tA8B2Y7\tQ28426\tA7S0I6\tQ864T8\tA0A1D8PCJ9\tQ6MVL6\tP19656\tA9V4W9\tQ5KQ99\tE3JPW4\tB7P3D3\tA0BAK0\tQ0H8Y5\tQ2M2T2\tQ95155\tQ8IBG1\tQ01782\tQ7PRX6\tA7UG01\tA2H602\tQ36257\tQ94R77\tQ6AWC8\tQ23891\tW5LV45\tQ9US56\tP84386\tB8CCW4\tQ63010\tF4NZ78\tP0C8Y3\tC3Y0R7\tQ91178\tQ68US2\tQ9W1R9\tP16240\tQ32063\tP01750\tF4HQG6\tA7E3Y0\tQ1XGB6\tH3G4X2\tP39702\tQ6A3P9\n",
            "P58415\tQ8TUR0\tQ981E2\tQ5JEA5\tO51956\tB1L7D6\tA9A4Z4\tP47485\tQ7NPQ2\tQ55525\tQ8FA32\tQ9K1R6\tQ89YE9\tQ9RYE6\tQ74H90\tQ8RHA6\tO66429\tQ9I7C3\tB5YGS7\tA9WAN3\tQ7UKR1\tO24867\tO50501\tQ9WYH1\tP71594\tP05650\tP0AFH2\tQ8ABV7\tB8DYG2\tO84006\tT1ECY1\tQ8RZL9\tP35331\tQ09234\tA8B2Y9\tP30388\tA7S0J6\tO77618\tA0A1D8PCL1\tQ6MVL6\tP17571\tA9V4X1\tQ5KQ98\tE3JPW5\tB7P3D4\tA0BAK1\tQ0H8W9\tQ2KIS6\tQ95154\tQ25822\tQ01782\tQ7QEI6\tA7UG02\tA2HMN3\tQ37695\tQ94R78\tQ5XG85\tQ8T132\tW5LV46\tQ9US55\tP84385\tB8CCW8\tQ63003\tF4NYV6\tF1QYH9\tC3Y0R9\tQ6E211\tQ28814\tQ9W283\tO02367\tP37825\tP01748\tQ9MAL9\tA7E3Y1\tQ1XGD2\tH3G4X3\tP32471\tQ4WJA1\n",
            "P58416\tQ8TH29\tQ981E1\tQ5JEA4\tO51956\tB1L7D7\tA9A4Z5\tQ49329\tQ7NPQ1\tQ55526\tQ8FA31\tQ9K1R5\tQ89YE8\tQ9RYE5\tQ74H89\tQ8RHA5\tO66429\tQ9I7C2\tB5YGS8\tA9WAN4\tQ7UKR0\tO24867\tO50502\tQ9WYC5\tP71594\tP05651\tP0AFH2\tQ8ABV6\tB8DYG3\tO84007\tT1ECY2\tQ8RZL9\tP35062\tQ8IG42\tA8B2Z3\tP30387\tA7S0H7\tO02789\tA0A1D8PCW6\tQ7RYA2\tP15719\tA9V4X7\tQ5KQ97\tE3JPW6\tB7P2B5\tQ6BFB0\tQ0H8X3\tQ2KIL1\tQ075B4\tQ8IBP1\tQ9NE83\tQ7QEI7\tA7UG03\tA2FFW5\tQ9B6D0\tQ94R75\tQ5W150\tQ86HD6\tW5LV47\tQ9US54\tP84384\tB8CCX0\tQ62716\tF4NYY7\tF1QNN1\tC3Y0S0\tQ9I8F9\tQ28813\tA0A0B4LG21\tQ94425\tP36443\tP01747\tF4HQJ3\tA7E3Y1\tA9U1T9\tH3G4X4\tP10591\tQ4WJ38\n",
            "P54110\tQ8TH29\tQ981E0\tQ5JEA3\tO51957\tB1L7D8\tA9A4Z6\tP47530\tQ7NPQ0\tQ55527\tQ8FA30\tP63622\tQ89YE7\tQ9RYE4\tQ74H88\tQ8RHA4\tO66430\tQ9I7C1\tB5YGS9\tA9WAN5\tQ7UKQ9\tO25029\tO50503\tQ9WYC5\tP71599\tP37525\tP0AFH6\tQ8ABV5\tB8DYG4\tO84008\tT1ECY3\tQ75KY3\tP30373\tA0A1S7LE80\tA8B8W8\tP30386\tA7S0Q7\tP0C593\tP0CU35\tQ7RYA1\tP15718\tA9V4X9\tQ5KQ96\tE3JPW7\tB7P325\tQ6BFB1\tQ0H8Y4\tQ2KID8\tP99506\tQ7KQL5\tQ9NE83\tQ7PRW8\tA7UG04\tA2FFW6\tQ9B6E7\tQ94R68\tQ5VV11\tQ75K15\tW5LV48\tQ9US53\tP84387\tB8CCX2\tQ62713\tF4NYQ8\tE7F8I1\tC3Y0S6\tP87368\tQ28812\tP29555\tF6X2V8\tQ32065\tP01746\tA0A1P8AVN2\tA7E3Y2\tA9U1T9\tH3G4X5\tP39704\tQ4WSM6\n",
            "P59283\tQ8TH29\tQ981D9\tQ5JEA2\tO51958\tB1L7D9\tA9A4Z7\tP47575\tQ7NPP9\tQ55528\tQ8CM44\tQ9K1R4\tQ89YE6\tQ9RYE3\tQ74H87\tQ8RHA3\tO66431\tQ9I7C0\tB5YGT0\tA9WAN6\tQ7UKQ8\tO25029\tO50504\tQ9WYC5\tP71599\tP05652\tP0AFH6\tQ8ABV4\tB8DYG5\tO84009\tT1ECY4\tQ75KY3\tP29616\tP46501\tA8BSF4\tP30385\tA7S0M4\tF6SJ70\tA0A1D8PDT4\tQ7RYA0\tP15268\tA9V4Y1\tQ5KQ95\tE3JPW8\tB7P3Z6\tA0BAK4\tQ0H8Y7\tQ2KHV9\tP99503\tQ8IJN7\tQ9NE83\tF5HJT9\tA7UG05\tA2FFW7\tQ9B6D5\tQ94R79\tQ5VSD8\tQ75K13\tW5LV49\tQ9US52\tP84382\tB8CCY6\tQ4FZT6\tF4NYU7\tF1QCX9\tC3Y0S8\tP87367\tP61559\tE1JIM9\tF6W3G8\tP05724\tP01745\tF4HS79\tA7E3Y2\tA9U2Q1\tH3G4X6\tP18411\tQ4WSM6\n",
            "Q58287\tQ8TH29\tQ981D8\tQ5JEA8\tO51959\tB1L7E0\tA9A4Z8\tP47687\tQ7NPP8\tQ55529\tQ8FA29\tQ9K1R3\tQ89YE5\tQ9RYE2\tP61740\tQ8RHA2\tO66432\tQ9I7B9\tB5YGT1\tA9WAN7\tQ7UKQ7\tO25046\tO50505\tQ9X1S1\tP71601\tP05653\tP76027\tQ8ABV3\tB8DYG6\tO84010\tT1ECY5\tQ75KY3\tP28684\tQ10126\tA8BYW0\tP30383\tA7S0M7\tF6SJ85\tQ5AB15\tU9W339\tP13867\tA9V4Y3\tQ5KQ94\tE3JPW9\tB7P1Y7\tQ6BFB2\tQ0H8X4\tQ2HJH8\tP83762\tQ8I6U8\tQ9NE83\tF5HJT8\tA7UG06\tA2FFW7\tQ9B6D8\tQ94R74\tQ5PR19\tQ86H76\tW5LV51\tP79081\tP84381\tB8CCY7\tQ10753\tF4NYP5\tA0A0G2KNU1\tC3XUR7\tP87365\tQ68US6\tP29555-2\tP61802\tP05723\tP01741\tP0DKH9\tA7E3Y3\tA9U2Q1\tH3G4X7\tP18410\tP78746\n",
            "P0CW76\tQ8TH29\tQ981D7\tQ5JEC3\tO51959\tB1L7E1\tA9A4Z9\tP47247\tQ7NPP7\tQ55530\tQ8FA28\tQ9K1R2\tQ89YE4\tQ9RYE1\tQ74H85\tQ8RHA1\tO66433\tQ9I7B8\tB5YGT2\tA9WAN8\tQ7UKQ6\tO25046\tO50506\tQ9X1S1\tP71601\tP37526\tP76027\tQ8ABV2\tB8DYG7\tO84011\tT1ECY6\tQ75KY3\tP28682\tP34457\tA8BSE9\tP30382\tA7S0H4\tF7G5G1\tA0A1D8PEN1\tU9WGK7\tP0DI67\tA9V4Y4\tA0A0S2LHR2\tE3JPX2\tB7P1Y8\tQ6BFB3\tQ0H8Z0\tQ29463\tP81709\tQ7KQL3\tQ9U178\tQ7QEI8\tA7UG07\tA2FFW7\tQ9B6E8\tQ94R72\tQ5BKY6\tQ86H75\tW5LV50\tQ9US51\tP20399\tB8CCZ0\tQ06605\tF4NZ62\tE7F5U5\tC3XUR6\tH2L2Q6\tP16215\tP09087\tQ8T880\tP05722\tP01740\tQ9LMM4\tA7E3Y3\tA9U358\tH3G4X8\tP18409\tP78746\n",
            "P60460\tQ8TH29\tQ981D6\tQ5JEC2\tO51960\tB1L7E2\tA9A500\tP47248\tQ7NPP6\tQ55531\tQ8FA27\tQ9K1R1\tQ89YE3\tQ9RYE0\tQ74H84\tQ8R6C9\tO66434\tQ9I7B7\tB5YGT3\tA9WAN9\tQ7UKQ5\tO25080\tO50508\tQ9X1S1\tI6WX95\tP21879\tP77737\tQ8ABV1\tB8DYG8\tO84012\tT1ECY7\tQ655Q7\tP27042\tQ20799\tA8BSE5\tP30381\tA7S0J3\tF6SJ42\tA0A1D8PER6\tQ7RY98\tP0DI65\tA9V4Z0\tQ5KQ93\tE3JPX5\tB7P1U8\tQ6BFB4\tQ0H8X5\tQ27996\tP81708\tQ8IJD4\tQ9U178\tQ7QEI9\tA7UG08\tA2FFW8\tQ9B6C8\tQ94R71\tQ56UQ5\tQ86H70\tW5LV52\tO00087\tA4IH95\tB8CCZ1\tQ00715\tF4NY63\tA0A0G2L2R4\tC3XUR5\tH2L2Q7\tP16209\tA0A126GUV9\tP91580\tA8IJR6\tP01739\tF4HU33\tA7E3Y4\tA9U358\tH3G4X9\tP31376\tQ4WSI0\n"
          ],
          "name": "stdout"
        }
      ]
    },
    {
      "cell_type": "code",
      "metadata": {
        "colab": {
          "base_uri": "https://localhost:8080/"
        },
        "id": "Y2yDRhn_aTLd",
        "outputId": "0296deb3-c64f-495c-833f-5ba32ca7ed10"
      },
      "source": [
        "# Get species taxIDs from QfO (it comes with many strain or subspecie taxIDs)\r\n",
        "\r\n",
        "!pip install --upgrade ete3\r\n",
        "from ete3 import NCBITaxa\r\n",
        "import pandas as pd\r\n",
        "\r\n",
        "# The first line (header) of the tsv file corresponds to the taxIDs of the reference species\r\n",
        "QfO_reference_taxa = pd.read_csv(\"drive/MyDrive/TFG/QFO_2018/QfO_uniprotKBs.tsv\", sep=\"\\t\", nrows=0).columns.astype(\"int32\")\r\n",
        "QfO_reference_species = [(QfO_reference_taxa[i], *getSpecie(QfO_reference_taxa[i])) for i in range(QfO_reference_taxa.size)]\r\n",
        "QfO_reference_species = pd.DataFrame(QfO_reference_species, columns=[\"QfO_taxID\", \"specie_taxID\", \"species_name\"])\r\n",
        "QfO_reference_species.to_csv(\"drive/MyDrive/TFG/QFO_2018/subspecieID2specieID.tsv\", sep=\"\\t\", header=True, index=False)\r\n",
        "!head drive/MyDrive/TFG/QFO_2018/subspecieID2specieID.tsv\r\n",
        "\r\n",
        "# Snippet got from mapQfO2MtP.py (Gabaldonlab/qfo-2020 repo) but slightly modified to also output specie's name\r\n",
        "def getSpecie(taxID: int):\r\n",
        "    \"\"\"This function searches the corresponding specie taxID for a given strain or subspecie taxID (MUST BE AN INTEGER) in the NCBI database. \r\n",
        "    Args:\r\n",
        "        taxID (int): taxID of the taxon of interest.\r\n",
        "    Returns:\r\n",
        "        specieID (int): taxID of the corresponding specie.\r\n",
        "    \"\"\"\r\n",
        "    \r\n",
        "    ncbi = NCBITaxa()\r\n",
        "    #ncbi.update_taxonomy_database() \r\n",
        "    \r\n",
        "    specieID = taxID # If the taxID is already a specie it will return the same taxID\r\n",
        "    if ncbi.get_rank([taxID])[taxID] != 'species':\r\n",
        "        lineage = ncbi.get_lineage(taxID)\r\n",
        "        for j in reversed(lineage): #Reverse because it's faster when it's a strain or subspecie\r\n",
        "            if ncbi.get_rank([j])[j] == 'species':\r\n",
        "                specieID = j\r\n",
        "    species_name = ncbi.get_taxid_translator([specieID])[specieID]\r\n",
        "    return specieID, species_name\r\n"
      ],
      "execution_count": null,
      "outputs": [
        {
          "output_type": "stream",
          "text": [
            "Requirement already up-to-date: ete3 in /usr/local/lib/python3.6/dist-packages (3.1.2)\n",
            "QfO_taxID\tspecie_taxID\tspecies_name\n",
            "243232\t2190\tMethanocaldococcus jannaschii\n",
            "188937\t2214\tMethanosarcina acetivorans\n",
            "273057\t2287\tSaccharolobus solfataricus\n",
            "69014\t311400\tThermococcus kodakarensis\n",
            "64091\t2242\tHalobacterium salinarum\n",
            "374847\t498846\tCandidatus Korarchaeum cryptofilum\n",
            "436308\t338192\tNitrosopumilus maritimus\n",
            "243273\t2097\tMycoplasma genitalium\n",
            "251221\t33072\tGloeobacter violaceus\n"
          ],
          "name": "stdout"
        }
      ]
    },
    {
      "cell_type": "code",
      "metadata": {
        "id": "o8QTtJc-Dcgu",
        "colab": {
          "base_uri": "https://localhost:8080/"
        },
        "outputId": "ac4ac3c1-464e-4a28-ee6e-54466e3793f8"
      },
      "source": [
        "# Human referece proteome dataset - CANONICAL PROTEOME\r\n",
        "# These are only the canonical proteins (in the xml are only the canonical sequences).\r\n",
        "# We are not adding isoforms or variants proteins so far.\r\n",
        "# This is the reason why we do not take the uniprotIDs directly from the previous file.\r\n",
        "\r\n",
        "!pip install biopython\r\n",
        "from Bio import SeqIO\r\n",
        "import pandas as pd\r\n",
        "records = list(SeqIO.parse(\"drive/MyDrive/TFG/QFO_2018/UP000005640_9606.xml\", \"seqxml\"))\r\n",
        "records_ids = [record.id for record in records]\r\n",
        "df_records_ids = pd.DataFrame(records_ids)\r\n",
        "df_records_ids.to_csv(\"drive/MyDrive/TFG/QFO_2018/human_reference_proteome.tsv\", sep=\"\\t\", index=False, header=False)\r\n",
        "!head drive/MyDrive/TFG/QFO_2018/human_reference_proteome.tsv"
      ],
      "execution_count": null,
      "outputs": [
        {
          "output_type": "stream",
          "text": [
            "Requirement already satisfied: biopython in /usr/local/lib/python3.6/dist-packages (1.78)\n",
            "Requirement already satisfied: numpy in /usr/local/lib/python3.6/dist-packages (from biopython) (1.19.4)\n",
            "A0A024R161\n",
            "A0A024R1R8\n",
            "A0A075B6F4\n",
            "A0A075B6H5\n",
            "A0A075B6H7\n",
            "A0A075B6H8\n",
            "A0A075B6H9\n",
            "A0A075B6I0\n",
            "A0A075B6I1\n",
            "A0A075B6I3\n"
          ],
          "name": "stdout"
        }
      ]
    },
    {
      "cell_type": "markdown",
      "metadata": {
        "id": "DWbPh8U4DJBv"
      },
      "source": [
        "## Gene Ontology Annotation (GAF) \r\n"
      ]
    },
    {
      "cell_type": "code",
      "metadata": {
        "colab": {
          "base_uri": "https://localhost:8080/"
        },
        "id": "gS65UbELWOUP",
        "outputId": "93ca3359-69d1-4e7b-afb0-d9ee437d2420"
      },
      "source": [
        "# Last version available at 15/01/2021\r\n",
        "!wget ftp://ftp.ebi.ac.uk/pub/databases/GO/goa/UNIPROT/goa_uniprot_all.gaf.gz\r\n",
        "!zcat goa_uniprot_all.gaf.gz | head -n 10"
      ],
      "execution_count": 4,
      "outputs": [
        {
          "output_type": "stream",
          "text": [
            "!gaf-version: 2.1\n",
            "!\n",
            "!Generated: 2020-12-02 07:56\n",
            "!GO-version: http://purl.obolibrary.org/obo/go/releases/2020-11-28/extensions/go-plus.owl\n",
            "!\n",
            "UniProtKB\tA0A009GUA7\tJ508_4179\t\tGO:0003677\tGO_REF:0000002\tIEA\tInterPro:IPR006119|InterPro:IPR036162\tF\tResolvase/invertase-type recombinase catalytic domain-containing protein\tJ508_4179\tprotein\ttaxon:1310609\t20201128\tInterPro\t\t\n",
            "UniProtKB\tA0A009GUA7\tJ508_4179\t\tGO:0006310\tGO_REF:0000002\tIEA\tInterPro:IPR006119|InterPro:IPR036162\tP\tResolvase/invertase-type recombinase catalytic domain-containing protein\tJ508_4179\tprotein\ttaxon:1310609\t20201128\tInterPro\t\t\n",
            "UniProtKB\tA0A009GUA7\tJ508_4179\t\tGO:0000150\tGO_REF:0000002\tIEA\tInterPro:IPR006119|InterPro:IPR036162\tF\tResolvase/invertase-type recombinase catalytic domain-containing protein\tJ508_4179\tprotein\ttaxon:1310609\t20201128\tInterPro\t\t\n",
            "UniProtKB\tA0A009HCR2\tJ517_0313\t\tGO:0005886\tGO_REF:0000044\tIEA\tUniProtKB-SubCell:SL-0039\tC\tBiopolymer transport ExbD/TolR family protein\tJ517_0313\tprotein\ttaxon:1310618\t20201128\tUniProt\t\t\n",
            "UniProtKB\tA0A009HCR2\tJ517_0313\t\tGO:0016020\tGO_REF:0000043\tIEA\tUniProtKB-KW:KW-0472\tC\tBiopolymer transport ExbD/TolR family protein\tJ517_0313\tprotein\ttaxon:1310618\t20201128\tUniProt\t\t\n"
          ],
          "name": "stdout"
        }
      ]
    },
    {
      "cell_type": "markdown",
      "metadata": {
        "id": "5FqNREOFllIE"
      },
      "source": [
        "## Orthologs retrievement"
      ]
    },
    {
      "cell_type": "markdown",
      "metadata": {
        "id": "_wZLjP70mSxB"
      },
      "source": [
        "### From MetaPhors"
      ]
    },
    {
      "cell_type": "code",
      "metadata": {
        "id": "5KIl-9ivv9bt",
        "colab": {
          "base_uri": "https://localhost:8080/"
        },
        "outputId": "c13f94fc-365b-44ab-e7d9-82cff8bb42f9"
      },
      "source": [
        "!ls drive/MyDrive/TFG/QfO_input.tsv #Orthologs input for QfO"
      ],
      "execution_count": null,
      "outputs": [
        {
          "output_type": "stream",
          "text": [
            "drive/MyDrive/TFG/QfO_input.tsv\n"
          ],
          "name": "stdout"
        }
      ]
    },
    {
      "cell_type": "markdown",
      "metadata": {
        "id": "SvwQYvrKARf-"
      },
      "source": [
        "# Matrix creation"
      ]
    },
    {
      "cell_type": "markdown",
      "metadata": {
        "id": "J465mmU6Ei9i"
      },
      "source": [
        "\r\n",
        "### Mapping human genes to orthologs and taxIDs \r\n",
        "\r\n",
        "Mapping Homo Sapiens reference proteins to their correspoding orthologs (from 78 reference species set by QfO) and its taxIDs\r\n"
      ]
    },
    {
      "cell_type": "code",
      "metadata": {
        "colab": {
          "base_uri": "https://localhost:8080/"
        },
        "id": "9ixEY4IBLYyT",
        "outputId": "cf86394b-0106-4d78-dae9-203281bd12d4"
      },
      "source": [
        "# DIFFERENT WAYS OF LOOKING FOR THE TAXID FROM THE UNIPROTID\r\n",
        "\r\n",
        "%%time\r\n",
        "import numpy as np\r\n",
        "import requests\r\n",
        "\r\n",
        "def map_uniprotIDs2taxIDs_BruteForce(uniprotIDs):\r\n",
        "  qfo_uniprotIDs = pd.read_csv(\"drive/MyDrive/TFG/QFO_2018/QfO_uniprotKBs.tsv\", sep=\"\\t\", header=0, dtype=\"string\")\r\n",
        "  qfo_uniprotIDs.fillna(\"-\", inplace=True) #To solve \"boolean value of NA is ambiguous pandas\" error\r\n",
        "  taxIDs = []\r\n",
        "  for uniprotID in uniprotIDs:\r\n",
        "    found = False\r\n",
        "    for taxID in qfo_uniprotIDs:\r\n",
        "        if uniprotID in qfo_uniprotIDs[taxID].unique():\r\n",
        "            taxIDs.append(taxID)\r\n",
        "            found = True\r\n",
        "            break\r\n",
        "    if not found:\r\n",
        "        taxIDs.append(np.nan)\r\n",
        "  return taxIDs\r\n",
        "\r\n",
        "def map_uniprotIDs2taxIDs_UniprotRequest(uniprotIDs):\r\n",
        "    # Documentation in https://www.uniprot.org/help/api_queries\r\n",
        "    taxIDs = []\r\n",
        "    endpoint = \"https://www.uniprot.org/uniprot/\"\r\n",
        "    for uniprotID in uniprotIDs:\r\n",
        "        params = {\r\n",
        "            'query': uniprotID,\r\n",
        "            'columns': 'organism-id', #Other information can be added (just add the field in comma-separated). Ex. 'id,organism-id,genes'\r\n",
        "            'format': 'tab'\r\n",
        "        }\r\n",
        "        response = requests.get(endpoint, params=params)\r\n",
        "        if response.status_code == 200:\r\n",
        "            taxIDs.append(response.text.splitlines()[1])\r\n",
        "        else:\r\n",
        "            print(f\"The tax for {uniprotID} couldn't be found\")\r\n",
        "            taxIDs.append(np.nan)\r\n",
        "    return taxIDs\r\n",
        "\r\n",
        "def map_uniprotIDs2taxIDs_EBIRequest(uniprotIDs):\r\n",
        "    # Documentation in https://www.ebi.ac.uk/proteins/api/doc/\r\n",
        "    taxIDs = []\r\n",
        "    for uniprotID in uniprotIDs:\r\n",
        "        requestURL = f\"https://www.ebi.ac.uk/proteins/api/proteins/{uniprotID}\"\r\n",
        "        response = requests.get(requestURL, headers={ \"Accept\" : \"application/json\"})\r\n",
        "        if response.ok: # status_code == 200\r\n",
        "            taxIDs.append(response.json()[\"organism\"][\"taxonomy\"])\r\n",
        "        else:\r\n",
        "            print(f\"The tax for {uniprotID} couldn't be found\")\r\n",
        "            taxIDs.append(np.nan)\r\n",
        "    return taxIDs\r\n",
        "\r\n",
        "print(map_uniprotIDs2taxIDs_EBIRequest([\"Q7ZAM9\", \"Q8F6D0\", \"Q8F6A3\", \"Q8F692\", \"Q8F624\", \"Q7L211\", \"Q8CXT3\"]))\r\n"
      ],
      "execution_count": null,
      "outputs": [
        {
          "output_type": "stream",
          "text": [
            "[189518, 189518, 189518, 189518, 189518, 9606, 189518]\n",
            "CPU times: user 93.4 ms, sys: 14.9 ms, total: 108 ms\n",
            "Wall time: 4 s\n"
          ],
          "name": "stdout"
        }
      ]
    },
    {
      "cell_type": "code",
      "metadata": {
        "colab": {
          "base_uri": "https://localhost:8080/"
        },
        "id": "MJIjLcLQQ5UE",
        "outputId": "89fb97d6-6a6a-48b7-d869-9dfb40959b70"
      },
      "source": [
        "# MULTIPROCESSING VERSION OF map_uniprotIDs2taxIDs_EBIRequest\r\n",
        "\r\n",
        "#!pip install aiohttp\r\n",
        "#!pip install asyncio\r\n",
        "\r\n",
        "# TO SOLVE \"This event loop is already running in python\" error\r\n",
        "#!pip install nest_asyncio\r\n",
        "#import nest_asyncio\r\n",
        "#nest_asyncio.apply()\r\n",
        "%%time\r\n",
        "\r\n",
        "import pandas as pd\r\n",
        "import aiohttp\r\n",
        "import asyncio\r\n",
        "\r\n",
        "async def map_uniprotIDs2taxIDs_EBIRequest(uniprotID, session):\r\n",
        "    # Documentation in https://www.ebi.ac.uk/proteins/api/doc/\r\n",
        "    while True:\r\n",
        "        try:\r\n",
        "            requestURL = f\"https://www.ebi.ac.uk/proteins/api/proteins/{uniprotID}\"\r\n",
        "            response = await session.get(requestURL, headers={ \"Accept\" : \"application/json\"})\r\n",
        "            if response.ok: # status_code == 200\r\n",
        "                return {uniprotID:(await response.json())[\"organism\"][\"taxonomy\"]}\r\n",
        "            else:\r\n",
        "                print(f\"Protein {uniprotID} raised a {response.status} status code.\")\r\n",
        "                return {uniprotID: pd.NA}\r\n",
        "        except aiohttp.ClientConnectionError as e:\r\n",
        "            print(f\"Raised a ClientConnectionError: {e.message}\")\r\n",
        "            asyncio.sleep(0.1)\r\n",
        "\r\n",
        "async def map_uniprotIDs2taxIDs_EBIRequest_multiprocessing(uniprotIDs, chunk=200): # EBI limits requests to 200 requests/second/user\r\n",
        "  result = {}\r\n",
        "  async with aiohttp.ClientSession() as session:\r\n",
        "    if len(uniprotIDs)>chunk:\r\n",
        "        for i in range(0, len(uniprotIDs), chunk):\r\n",
        "            step = i+chunk if (i+chunk) < len(uniprotIDs) else len(uniprotIDs)\r\n",
        "            print(f\"{i} proteins already processed. Processing next batch...\")\r\n",
        "            res_batch = await asyncio.gather(*[map_uniprotIDs2taxIDs_EBIRequest(uniprotID, session) for uniprotID in uniprotIDs[i:step]])\r\n",
        "            for j in res_batch:\r\n",
        "                result.update(j)\r\n",
        "            #sleep(1)\r\n",
        "    else:\r\n",
        "        res_batch = await asyncio.gather(*[map_uniprotIDs2taxIDs_EBIRequest(uniprotID, session) for uniprotID in uniprotIDs])\r\n",
        "        for j in res_batch:\r\n",
        "            result.update(j)\r\n",
        "  return result\r\n",
        "\r\n",
        "\r\n",
        "uniprotIDs = pd.Series([\"Q7ZAM9\", \"Q8F6D0\", \"NO_EXIST\", \"Q8F692\", \"Q8F624\", \"Q7L211\", \"Q8CXT3\"])\r\n",
        "loop = asyncio.get_event_loop()\r\n",
        "uniprotID2taxIDs = loop.run_until_complete(map_uniprotIDs2taxIDs_EBIRequest_multiprocessing(uniprotIDs.unique().tolist(), 3))\r\n",
        "uniprotIDs = uniprotIDs.apply(lambda x:  uniprotID2taxIDs.get(x))\r\n",
        "#uniprotIDs = uniprotIDs.astype(pd.Int64Dtype())\r\n",
        "print(uniprotIDs)\r\n"
      ],
      "execution_count": null,
      "outputs": [
        {
          "output_type": "stream",
          "text": [
            "Processing next batch: 3.\n",
            "Protein NO_EXIST raised a 400 status code.\n",
            "Processing next batch: 6.\n",
            "Processing next batch: 9.\n",
            "0    189518\n",
            "1    189518\n",
            "2      <NA>\n",
            "3    189518\n",
            "4    189518\n",
            "5      9606\n",
            "6    189518\n",
            "dtype: object\n",
            "CPU times: user 30.3 ms, sys: 2.18 ms, total: 32.5 ms\n",
            "Wall time: 2.66 s\n"
          ],
          "name": "stdout"
        }
      ]
    },
    {
      "cell_type": "code",
      "metadata": {
        "colab": {
          "base_uri": "https://localhost:8080/"
        },
        "id": "JBb7HJW5AlSb",
        "outputId": "5f85aa49-7ed6-4cbd-d28c-e63180089e73"
      },
      "source": [
        "%%time\r\n",
        "!pip install aiohttp\r\n",
        "!pip install asyncio\r\n",
        "\r\n",
        "import pandas as pd\r\n",
        "import aiohttp\r\n",
        "import asyncio\r\n",
        "\r\n",
        "# To solve \"This event loop is already running in python\" error\r\n",
        "!pip install nest_asyncio\r\n",
        "import nest_asyncio\r\n",
        "nest_asyncio.apply()\r\n",
        "\r\n",
        "# GET ORTHOLOGS ONLY FOR HOMO SAPIENS\r\n",
        "mtp_orthologs = pd.read_csv(\"drive/MyDrive/TFG/QfO_input.tsv\", sep=\"\\t\", names=[\"protein1\", \"protein2\"])\r\n",
        "qfo_ref_human_proteome = pd.read_csv(\"drive/MyDrive/TFG/QFO_2018/human_reference_proteome.tsv\", sep=\"\\t\", names=[\"protein1\"])\r\n",
        "print(\"Total size of the orthologs file from MetaPhOrs:\", mtp_orthologs.size)\r\n",
        "print(\"Number of reference proteins (from QfO):\", qfo_ref_human_proteome.size)\r\n",
        "ref_protein_mtp = pd.merge(mtp_orthologs, qfo_ref_human_proteome, how=\"inner\", on=\"protein1\")\r\n",
        "print(\"Size of the resulting inner join between the two datasets:\", ref_protein_mtp.size)\r\n",
        "print(\"Actual number of reference Homo Sapiens proteins within MetaPhOrs:\", ref_protein_mtp[\"protein1\"].unique().size)\r\n",
        "#ref_protein_mtp.drop_duplicates() # There just around 200 repeated rows but I think that they correspond to the orthologs within the same specie (Homo sapiens in this case) -> diagonal\r\n",
        "\r\n",
        "async def map_uniprotIDs2taxIDs_EBIRequest(uniprotID, session):\r\n",
        "    # Documentation in https://www.ebi.ac.uk/proteins/api/doc/\r\n",
        "    while True:\r\n",
        "        try:\r\n",
        "            requestURL = f\"https://www.ebi.ac.uk/proteins/api/proteins/{uniprotID}\"\r\n",
        "            response = await session.get(requestURL, headers={ \"Accept\" : \"application/json\"})\r\n",
        "            if response.ok: # status_code == 200\r\n",
        "                return {uniprotID:(await response.json())[\"organism\"][\"taxonomy\"]}\r\n",
        "            else:\r\n",
        "                #print(f\"Protein {uniprotID} raised a {response.status} status code.\") # It means that the protein couldn't be found or has been deleted.\r\n",
        "                return {uniprotID: pd.NA}\r\n",
        "        except aiohttp.ClientConnectionError as e:\r\n",
        "            print(f\"Raised a ClientConnectionError: {e.message}\")\r\n",
        "            asyncio.sleep(0.1)\r\n",
        "\r\n",
        "async def map_uniprotIDs2taxIDs_EBIRequest_multiprocessing(uniprotIDs, chunk=200): # EBI limits requests to 200 requests/second/user\r\n",
        "  result = {}\r\n",
        "  async with aiohttp.ClientSession() as session:\r\n",
        "    if len(uniprotIDs)>chunk:\r\n",
        "        for i in range(0, len(uniprotIDs), chunk):\r\n",
        "            step = i+chunk if (i+chunk) < len(uniprotIDs) else len(uniprotIDs)\r\n",
        "            #print(f\"{i} proteins already processed. Processing next batch...\")\r\n",
        "            res_batch = await asyncio.gather(*[map_uniprotIDs2taxIDs_EBIRequest(uniprotID, session) for uniprotID in uniprotIDs[i:step]])\r\n",
        "            for j in res_batch:\r\n",
        "                result.update(j)\r\n",
        "            #sleep(1)\r\n",
        "    else:\r\n",
        "        res_batch = await asyncio.gather(*[map_uniprotIDs2taxIDs_EBIRequest(uniprotID, session) for uniprotID in uniprotIDs])\r\n",
        "        for j in res_batch:\r\n",
        "            result.update(j)\r\n",
        "  return result\r\n",
        "\r\n",
        "# MAP TAXIDs\r\n",
        "loop = asyncio.get_event_loop()\r\n",
        "uniprotID2taxIDs = loop.run_until_complete(map_uniprotIDs2taxIDs_EBIRequest_multiprocessing(ref_protein_mtp[\"protein2\"].unique().tolist()))\r\n",
        "ref_protein_mtp[\"orthologs_taxID\"] = ref_protein_mtp[\"protein2\"].apply(lambda x:  uniprotID2taxIDs.get(x))\r\n",
        "#ref_protein_mtp[\"orthologs_taxID\"] = ref_protein_mtp[\"orthologs_taxID\"].astype(pd.Int64Dtype())\r\n",
        "ref_protein_mtp.to_csv(\"drive/MyDrive/TFG/human_orthologs_MtP-QfO2018.tsv\", sep=\"\\t\", index=False, header=[\"human_protein\", \"ortholog\", \"orthologs_taxID\"])\r\n",
        "!echo \"First 10 rows:\"\r\n",
        "!head -10 drive/MyDrive/TFG/human_orthologs_MtP-QfO2018.tsv\r\n",
        "\r\n"
      ],
      "execution_count": null,
      "outputs": [
        {
          "output_type": "stream",
          "text": [
            "Requirement already satisfied: aiohttp in /usr/local/lib/python3.6/dist-packages (3.7.3)\n",
            "Requirement already satisfied: yarl<2.0,>=1.0 in /usr/local/lib/python3.6/dist-packages (from aiohttp) (1.6.3)\n",
            "Requirement already satisfied: typing-extensions>=3.6.5 in /usr/local/lib/python3.6/dist-packages (from aiohttp) (3.7.4.3)\n",
            "Requirement already satisfied: multidict<7.0,>=4.5 in /usr/local/lib/python3.6/dist-packages (from aiohttp) (5.1.0)\n",
            "Requirement already satisfied: async-timeout<4.0,>=3.0 in /usr/local/lib/python3.6/dist-packages (from aiohttp) (3.0.1)\n",
            "Requirement already satisfied: chardet<4.0,>=2.0 in /usr/local/lib/python3.6/dist-packages (from aiohttp) (3.0.4)\n",
            "Requirement already satisfied: idna-ssl>=1.0; python_version < \"3.7\" in /usr/local/lib/python3.6/dist-packages (from aiohttp) (1.1.0)\n",
            "Requirement already satisfied: attrs>=17.3.0 in /usr/local/lib/python3.6/dist-packages (from aiohttp) (20.3.0)\n",
            "Requirement already satisfied: idna>=2.0 in /usr/local/lib/python3.6/dist-packages (from yarl<2.0,>=1.0->aiohttp) (2.10)\n",
            "Requirement already satisfied: asyncio in /usr/local/lib/python3.6/dist-packages (3.4.3)\n",
            "Requirement already satisfied: nest_asyncio in /usr/local/lib/python3.6/dist-packages (1.4.3)\n",
            "Total size of the orthologs file from MetaPhOrs: 7898268\n",
            "Number of reference proteins (from QfO): 20996\n",
            "Size of the resulting inner join between the two datasets: 139718\n",
            "Actual number of reference Homo Sapiens proteins within MetaPhOrs: 5254\n",
            "First 10 rows:\n",
            "human_protein\tortholog\torthologs_taxID\n",
            "Q8ND71\tQ7ZAM9\t189518\n",
            "Q8ND71\tQ6CDT3\t284591\n",
            "Q8ND71\tA2ESR8\t5722\n",
            "Q8ND71\tA2E1H0\t5722\n",
            "Q8ND71\tA2FTJ3\t5722\n",
            "Q8ND71\tA2FTJ2\t5722\n",
            "Q8ND71\tG3S4T9\t9595\n",
            "Q8ND71\tA0A2I3SJI4\t9598\n",
            "Q8ND71\tH2R4V7\t9598\n",
            "CPU times: user 1min 7s, sys: 4.83 s, total: 1min 11s\n",
            "Wall time: 16min 38s\n"
          ],
          "name": "stdout"
        }
      ]
    },
    {
      "cell_type": "code",
      "metadata": {
        "colab": {
          "base_uri": "https://localhost:8080/"
        },
        "id": "rrR5R8vdBsX5",
        "outputId": "835465f6-a866-46a3-f004-e6c80a569482"
      },
      "source": [
        "# Orthologs analysis\r\n",
        "import pandas as pd\r\n",
        "\r\n",
        "human_orthologs = pd.read_csv(\"drive/MyDrive/TFG/human_orthologs_MtP-QfO2018.tsv\", sep=\"\\t\", header=0, dtype={\"human_protein\": \"string\", \"ortholog\":\"string\", \"orthologs_taxID\":pd.Int64Dtype()})\r\n",
        "print(f\"There are {human_orthologs['human_protein'].unique().size} human proteins and {human_orthologs['ortholog'].size} orthologs.\")\r\n",
        "print(f\"There are {human_orthologs['orthologs_taxID'].isna().sum()} proteins that have been deleted from the Uniprot database\")\r\n",
        "# Se podría buscar los taxIDs de estas proteinas en el fichero de QfO_uniprotKBs.tsv (aquí seguro que están) mediante la funcion map_uniprotIDs2taxIDs_BruteForce()\r\n",
        "# Aunque si no es una cifra significativa tal vez no sea necesario o bien incluso sería mejor ignorarlas dado que por algo han sido eliminadas"
      ],
      "execution_count": null,
      "outputs": [
        {
          "output_type": "stream",
          "text": [
            "There are 5254 human proteins and 69859 orthologs.\n",
            "There are 1618 proteins that have been deleted from the Uniprot database\n"
          ],
          "name": "stdout"
        }
      ]
    },
    {
      "cell_type": "markdown",
      "metadata": {
        "id": "Ey6anX3Kh43n"
      },
      "source": [
        "### Count orthologs per human protein"
      ]
    },
    {
      "cell_type": "code",
      "metadata": {
        "id": "c3VEjhLUh1wd",
        "colab": {
          "base_uri": "https://localhost:8080/",
          "height": 541
        },
        "outputId": "2909106b-eaeb-4906-9f32-a611fe09e678"
      },
      "source": [
        "import pandas as pd\r\n",
        "import numpy as np\r\n",
        "\r\n",
        "human_orthologs = pd.read_csv(\"drive/MyDrive/TFG/human_orthologs_MtP-QfO2018.tsv\", sep=\"\\t\", header=0, dtype={\"human_protein\": \"string\", \"ortholog\":\"string\", \"orthologs_taxID\":pd.Int64Dtype()})\r\n",
        "sub2sp = pd.read_csv(\"drive/MyDrive/TFG/QFO_2018/subspecieID2specieID.tsv\", sep=\"\\t\", header=0, dtype={\"QfO_taxID\":pd.Int64Dtype(), \"specie_taxID\": pd.Int64Dtype(), \"species_name\": \"string\"})\r\n",
        "\r\n",
        "# Clean and check\r\n",
        "#print(\"Species taxIDs:\\n\",sub2sp[\"QfO_taxID\"].unique())\r\n",
        "#print(\"\\nOrthologs taxIDs:\\n\", human_orthologs[\"orthologs_taxID\"].dropna().unique())\r\n",
        "print(\"\\nSpecies in the reference proteome for which any ortholog has been found:\\n\",np.setdiff1d(sub2sp[\"QfO_taxID\"].unique(), human_orthologs[\"orthologs_taxID\"].dropna().unique()))\r\n",
        "print(\"\\nOrthologs species that are not in the reference proteome:\\n\", np.setdiff1d(human_orthologs[\"orthologs_taxID\"].dropna().unique(), sub2sp[\"QfO_taxID\"].unique()))\r\n",
        "\r\n",
        "# Count orthologs\r\n",
        "taxa = np.intersect1d(sub2sp[\"QfO_taxID\"].unique(), human_orthologs[\"orthologs_taxID\"].dropna().unique())\r\n",
        "proteins = human_orthologs[\"human_protein\"].unique()\r\n",
        "matrix = {}\r\n",
        "for tax in taxa:\r\n",
        "  tax_orthologs = human_orthologs[human_orthologs[\"orthologs_taxID\"]==tax] # Orthologs between human and a specific specie\r\n",
        "  matrix[tax] = []\r\n",
        "  for protein in proteins:\r\n",
        "    query = tax_orthologs[\"ortholog\"].where(tax_orthologs[\"human_protein\"]==protein).dropna() #To just count the nº of orthologs replace tolist() with count()\r\n",
        "    if query.empty:\r\n",
        "      matrix[tax].append([])\r\n",
        "    else:\r\n",
        "      matrix[tax].append(query.tolist())\r\n",
        "orthologs_matrix_df = pd.DataFrame(matrix, index=proteins)\r\n",
        "orthologs_counts_matrix = orthologs_matrix_df.applymap(lambda x: len(x))\r\n",
        "orthologs_counts_matrix.to_csv(\"drive/MyDrive/TFG/orthologs_counts_matrix.tsv\", sep=\"\\t\", index=True, header=True)\r\n",
        "orthologs_counts_matrix\r\n",
        "\r\n",
        "# orthologs_counts_matrix[orthologs_counts_matrix[orthologs_counts_matrix[:]!=0].all(axis=1)] # Eliminar todas aquellas filas en las haya todo 0s\r\n",
        "\r\n",
        "# PARA PRUEBAS:\r\n",
        "# prova = [\"Q8ND71\", \"Q7L211\", \"Q5JPI9\"]\r\n",
        "# tax_orthologs = human_orthologs[human_orthologs[\"orthologs_taxID\"]==9598]\r\n",
        "# print(tax_orthologs)\r\n",
        "# for protein in prova:\r\n",
        "#   print(tax_orthologs[\"ortholog\"].where(tax_orthologs[\"human_protein\"]==protein).dropna().tolist()) \r\n"
      ],
      "execution_count": null,
      "outputs": [
        {
          "output_type": "stream",
          "text": [
            "\n",
            "Species in the reference proteome for which any ortholog has been found:\n",
            " [7918 9606 83332 184922 224308 243273 559292 684364]\n",
            "\n",
            "Orthologs species that are not in the reference proteome:\n",
            " []\n"
          ],
          "name": "stdout"
        },
        {
          "output_type": "execute_result",
          "data": {
            "text/html": [
              "<div>\n",
              "<style scoped>\n",
              "    .dataframe tbody tr th:only-of-type {\n",
              "        vertical-align: middle;\n",
              "    }\n",
              "\n",
              "    .dataframe tbody tr th {\n",
              "        vertical-align: top;\n",
              "    }\n",
              "\n",
              "    .dataframe thead th {\n",
              "        text-align: right;\n",
              "    }\n",
              "</style>\n",
              "<table border=\"1\" class=\"dataframe\">\n",
              "  <thead>\n",
              "    <tr style=\"text-align: right;\">\n",
              "      <th></th>\n",
              "      <th>3055</th>\n",
              "      <th>3218</th>\n",
              "      <th>3702</th>\n",
              "      <th>4577</th>\n",
              "      <th>5664</th>\n",
              "      <th>5722</th>\n",
              "      <th>5888</th>\n",
              "      <th>6239</th>\n",
              "      <th>6412</th>\n",
              "      <th>6945</th>\n",
              "      <th>7070</th>\n",
              "      <th>7165</th>\n",
              "      <th>7227</th>\n",
              "      <th>7719</th>\n",
              "      <th>7739</th>\n",
              "      <th>7955</th>\n",
              "      <th>8090</th>\n",
              "      <th>8364</th>\n",
              "      <th>9031</th>\n",
              "      <th>9595</th>\n",
              "      <th>9598</th>\n",
              "      <th>9615</th>\n",
              "      <th>9913</th>\n",
              "      <th>10090</th>\n",
              "      <th>10116</th>\n",
              "      <th>13616</th>\n",
              "      <th>35128</th>\n",
              "      <th>36329</th>\n",
              "      <th>39947</th>\n",
              "      <th>44689</th>\n",
              "      <th>45351</th>\n",
              "      <th>64091</th>\n",
              "      <th>69014</th>\n",
              "      <th>81824</th>\n",
              "      <th>83333</th>\n",
              "      <th>85962</th>\n",
              "      <th>100226</th>\n",
              "      <th>122586</th>\n",
              "      <th>164328</th>\n",
              "      <th>188937</th>\n",
              "      <th>189518</th>\n",
              "      <th>190304</th>\n",
              "      <th>208964</th>\n",
              "      <th>214684</th>\n",
              "      <th>224324</th>\n",
              "      <th>224911</th>\n",
              "      <th>226186</th>\n",
              "      <th>237561</th>\n",
              "      <th>237631</th>\n",
              "      <th>243090</th>\n",
              "      <th>243230</th>\n",
              "      <th>243231</th>\n",
              "      <th>243232</th>\n",
              "      <th>243274</th>\n",
              "      <th>251221</th>\n",
              "      <th>272561</th>\n",
              "      <th>273057</th>\n",
              "      <th>284591</th>\n",
              "      <th>284812</th>\n",
              "      <th>289376</th>\n",
              "      <th>321614</th>\n",
              "      <th>324602</th>\n",
              "      <th>330879</th>\n",
              "      <th>367110</th>\n",
              "      <th>374847</th>\n",
              "      <th>418459</th>\n",
              "      <th>436308</th>\n",
              "      <th>515635</th>\n",
              "      <th>665079</th>\n",
              "      <th>1111708</th>\n",
              "    </tr>\n",
              "  </thead>\n",
              "  <tbody>\n",
              "    <tr>\n",
              "      <th>Q8ND71</th>\n",
              "      <td>0</td>\n",
              "      <td>0</td>\n",
              "      <td>0</td>\n",
              "      <td>0</td>\n",
              "      <td>0</td>\n",
              "      <td>4</td>\n",
              "      <td>0</td>\n",
              "      <td>0</td>\n",
              "      <td>0</td>\n",
              "      <td>0</td>\n",
              "      <td>0</td>\n",
              "      <td>0</td>\n",
              "      <td>0</td>\n",
              "      <td>0</td>\n",
              "      <td>0</td>\n",
              "      <td>0</td>\n",
              "      <td>0</td>\n",
              "      <td>0</td>\n",
              "      <td>0</td>\n",
              "      <td>1</td>\n",
              "      <td>2</td>\n",
              "      <td>0</td>\n",
              "      <td>0</td>\n",
              "      <td>0</td>\n",
              "      <td>0</td>\n",
              "      <td>0</td>\n",
              "      <td>0</td>\n",
              "      <td>0</td>\n",
              "      <td>0</td>\n",
              "      <td>0</td>\n",
              "      <td>0</td>\n",
              "      <td>0</td>\n",
              "      <td>0</td>\n",
              "      <td>0</td>\n",
              "      <td>0</td>\n",
              "      <td>0</td>\n",
              "      <td>0</td>\n",
              "      <td>0</td>\n",
              "      <td>0</td>\n",
              "      <td>0</td>\n",
              "      <td>1</td>\n",
              "      <td>0</td>\n",
              "      <td>0</td>\n",
              "      <td>0</td>\n",
              "      <td>0</td>\n",
              "      <td>0</td>\n",
              "      <td>0</td>\n",
              "      <td>0</td>\n",
              "      <td>0</td>\n",
              "      <td>0</td>\n",
              "      <td>0</td>\n",
              "      <td>0</td>\n",
              "      <td>0</td>\n",
              "      <td>0</td>\n",
              "      <td>0</td>\n",
              "      <td>0</td>\n",
              "      <td>0</td>\n",
              "      <td>1</td>\n",
              "      <td>0</td>\n",
              "      <td>0</td>\n",
              "      <td>0</td>\n",
              "      <td>0</td>\n",
              "      <td>0</td>\n",
              "      <td>0</td>\n",
              "      <td>0</td>\n",
              "      <td>0</td>\n",
              "      <td>0</td>\n",
              "      <td>0</td>\n",
              "      <td>0</td>\n",
              "      <td>0</td>\n",
              "    </tr>\n",
              "    <tr>\n",
              "      <th>P15170</th>\n",
              "      <td>1</td>\n",
              "      <td>0</td>\n",
              "      <td>0</td>\n",
              "      <td>1</td>\n",
              "      <td>1</td>\n",
              "      <td>1</td>\n",
              "      <td>0</td>\n",
              "      <td>1</td>\n",
              "      <td>1</td>\n",
              "      <td>1</td>\n",
              "      <td>1</td>\n",
              "      <td>0</td>\n",
              "      <td>1</td>\n",
              "      <td>0</td>\n",
              "      <td>1</td>\n",
              "      <td>1</td>\n",
              "      <td>0</td>\n",
              "      <td>0</td>\n",
              "      <td>0</td>\n",
              "      <td>0</td>\n",
              "      <td>0</td>\n",
              "      <td>0</td>\n",
              "      <td>0</td>\n",
              "      <td>1</td>\n",
              "      <td>0</td>\n",
              "      <td>0</td>\n",
              "      <td>1</td>\n",
              "      <td>1</td>\n",
              "      <td>0</td>\n",
              "      <td>0</td>\n",
              "      <td>1</td>\n",
              "      <td>0</td>\n",
              "      <td>0</td>\n",
              "      <td>1</td>\n",
              "      <td>0</td>\n",
              "      <td>0</td>\n",
              "      <td>0</td>\n",
              "      <td>0</td>\n",
              "      <td>0</td>\n",
              "      <td>0</td>\n",
              "      <td>1</td>\n",
              "      <td>0</td>\n",
              "      <td>0</td>\n",
              "      <td>0</td>\n",
              "      <td>0</td>\n",
              "      <td>0</td>\n",
              "      <td>0</td>\n",
              "      <td>1</td>\n",
              "      <td>1</td>\n",
              "      <td>0</td>\n",
              "      <td>0</td>\n",
              "      <td>0</td>\n",
              "      <td>0</td>\n",
              "      <td>0</td>\n",
              "      <td>0</td>\n",
              "      <td>0</td>\n",
              "      <td>0</td>\n",
              "      <td>0</td>\n",
              "      <td>1</td>\n",
              "      <td>0</td>\n",
              "      <td>1</td>\n",
              "      <td>0</td>\n",
              "      <td>0</td>\n",
              "      <td>1</td>\n",
              "      <td>0</td>\n",
              "      <td>0</td>\n",
              "      <td>0</td>\n",
              "      <td>0</td>\n",
              "      <td>1</td>\n",
              "      <td>0</td>\n",
              "    </tr>\n",
              "    <tr>\n",
              "      <th>Q6ZNB7</th>\n",
              "      <td>0</td>\n",
              "      <td>0</td>\n",
              "      <td>0</td>\n",
              "      <td>0</td>\n",
              "      <td>0</td>\n",
              "      <td>0</td>\n",
              "      <td>0</td>\n",
              "      <td>0</td>\n",
              "      <td>0</td>\n",
              "      <td>0</td>\n",
              "      <td>1</td>\n",
              "      <td>0</td>\n",
              "      <td>0</td>\n",
              "      <td>0</td>\n",
              "      <td>4</td>\n",
              "      <td>1</td>\n",
              "      <td>1</td>\n",
              "      <td>1</td>\n",
              "      <td>1</td>\n",
              "      <td>1</td>\n",
              "      <td>0</td>\n",
              "      <td>0</td>\n",
              "      <td>1</td>\n",
              "      <td>1</td>\n",
              "      <td>0</td>\n",
              "      <td>1</td>\n",
              "      <td>0</td>\n",
              "      <td>0</td>\n",
              "      <td>0</td>\n",
              "      <td>2</td>\n",
              "      <td>1</td>\n",
              "      <td>0</td>\n",
              "      <td>0</td>\n",
              "      <td>1</td>\n",
              "      <td>0</td>\n",
              "      <td>0</td>\n",
              "      <td>0</td>\n",
              "      <td>0</td>\n",
              "      <td>0</td>\n",
              "      <td>0</td>\n",
              "      <td>2</td>\n",
              "      <td>0</td>\n",
              "      <td>0</td>\n",
              "      <td>0</td>\n",
              "      <td>0</td>\n",
              "      <td>0</td>\n",
              "      <td>0</td>\n",
              "      <td>0</td>\n",
              "      <td>2</td>\n",
              "      <td>0</td>\n",
              "      <td>0</td>\n",
              "      <td>0</td>\n",
              "      <td>0</td>\n",
              "      <td>0</td>\n",
              "      <td>1</td>\n",
              "      <td>0</td>\n",
              "      <td>0</td>\n",
              "      <td>0</td>\n",
              "      <td>0</td>\n",
              "      <td>0</td>\n",
              "      <td>0</td>\n",
              "      <td>0</td>\n",
              "      <td>0</td>\n",
              "      <td>0</td>\n",
              "      <td>0</td>\n",
              "      <td>0</td>\n",
              "      <td>0</td>\n",
              "      <td>0</td>\n",
              "      <td>0</td>\n",
              "      <td>0</td>\n",
              "    </tr>\n",
              "    <tr>\n",
              "      <th>A6NK44</th>\n",
              "      <td>0</td>\n",
              "      <td>0</td>\n",
              "      <td>2</td>\n",
              "      <td>0</td>\n",
              "      <td>0</td>\n",
              "      <td>0</td>\n",
              "      <td>0</td>\n",
              "      <td>0</td>\n",
              "      <td>0</td>\n",
              "      <td>0</td>\n",
              "      <td>0</td>\n",
              "      <td>0</td>\n",
              "      <td>0</td>\n",
              "      <td>0</td>\n",
              "      <td>1</td>\n",
              "      <td>1</td>\n",
              "      <td>0</td>\n",
              "      <td>0</td>\n",
              "      <td>1</td>\n",
              "      <td>0</td>\n",
              "      <td>1</td>\n",
              "      <td>0</td>\n",
              "      <td>0</td>\n",
              "      <td>0</td>\n",
              "      <td>0</td>\n",
              "      <td>0</td>\n",
              "      <td>0</td>\n",
              "      <td>0</td>\n",
              "      <td>1</td>\n",
              "      <td>1</td>\n",
              "      <td>1</td>\n",
              "      <td>1</td>\n",
              "      <td>1</td>\n",
              "      <td>0</td>\n",
              "      <td>0</td>\n",
              "      <td>0</td>\n",
              "      <td>0</td>\n",
              "      <td>0</td>\n",
              "      <td>0</td>\n",
              "      <td>0</td>\n",
              "      <td>1</td>\n",
              "      <td>0</td>\n",
              "      <td>0</td>\n",
              "      <td>0</td>\n",
              "      <td>0</td>\n",
              "      <td>1</td>\n",
              "      <td>1</td>\n",
              "      <td>0</td>\n",
              "      <td>1</td>\n",
              "      <td>1</td>\n",
              "      <td>1</td>\n",
              "      <td>1</td>\n",
              "      <td>0</td>\n",
              "      <td>0</td>\n",
              "      <td>1</td>\n",
              "      <td>0</td>\n",
              "      <td>1</td>\n",
              "      <td>0</td>\n",
              "      <td>0</td>\n",
              "      <td>0</td>\n",
              "      <td>0</td>\n",
              "      <td>1</td>\n",
              "      <td>0</td>\n",
              "      <td>0</td>\n",
              "      <td>0</td>\n",
              "      <td>0</td>\n",
              "      <td>1</td>\n",
              "      <td>0</td>\n",
              "      <td>1</td>\n",
              "      <td>0</td>\n",
              "    </tr>\n",
              "    <tr>\n",
              "      <th>A5YM72</th>\n",
              "      <td>1</td>\n",
              "      <td>0</td>\n",
              "      <td>0</td>\n",
              "      <td>0</td>\n",
              "      <td>1</td>\n",
              "      <td>0</td>\n",
              "      <td>0</td>\n",
              "      <td>0</td>\n",
              "      <td>0</td>\n",
              "      <td>0</td>\n",
              "      <td>0</td>\n",
              "      <td>0</td>\n",
              "      <td>0</td>\n",
              "      <td>0</td>\n",
              "      <td>0</td>\n",
              "      <td>0</td>\n",
              "      <td>0</td>\n",
              "      <td>0</td>\n",
              "      <td>0</td>\n",
              "      <td>0</td>\n",
              "      <td>0</td>\n",
              "      <td>0</td>\n",
              "      <td>0</td>\n",
              "      <td>1</td>\n",
              "      <td>0</td>\n",
              "      <td>0</td>\n",
              "      <td>0</td>\n",
              "      <td>0</td>\n",
              "      <td>0</td>\n",
              "      <td>0</td>\n",
              "      <td>0</td>\n",
              "      <td>0</td>\n",
              "      <td>0</td>\n",
              "      <td>0</td>\n",
              "      <td>0</td>\n",
              "      <td>0</td>\n",
              "      <td>1</td>\n",
              "      <td>0</td>\n",
              "      <td>0</td>\n",
              "      <td>0</td>\n",
              "      <td>1</td>\n",
              "      <td>0</td>\n",
              "      <td>0</td>\n",
              "      <td>0</td>\n",
              "      <td>0</td>\n",
              "      <td>0</td>\n",
              "      <td>0</td>\n",
              "      <td>0</td>\n",
              "      <td>0</td>\n",
              "      <td>0</td>\n",
              "      <td>0</td>\n",
              "      <td>0</td>\n",
              "      <td>0</td>\n",
              "      <td>0</td>\n",
              "      <td>0</td>\n",
              "      <td>0</td>\n",
              "      <td>0</td>\n",
              "      <td>0</td>\n",
              "      <td>0</td>\n",
              "      <td>0</td>\n",
              "      <td>0</td>\n",
              "      <td>0</td>\n",
              "      <td>0</td>\n",
              "      <td>0</td>\n",
              "      <td>0</td>\n",
              "      <td>0</td>\n",
              "      <td>0</td>\n",
              "      <td>0</td>\n",
              "      <td>1</td>\n",
              "      <td>0</td>\n",
              "    </tr>\n",
              "    <tr>\n",
              "      <th>...</th>\n",
              "      <td>...</td>\n",
              "      <td>...</td>\n",
              "      <td>...</td>\n",
              "      <td>...</td>\n",
              "      <td>...</td>\n",
              "      <td>...</td>\n",
              "      <td>...</td>\n",
              "      <td>...</td>\n",
              "      <td>...</td>\n",
              "      <td>...</td>\n",
              "      <td>...</td>\n",
              "      <td>...</td>\n",
              "      <td>...</td>\n",
              "      <td>...</td>\n",
              "      <td>...</td>\n",
              "      <td>...</td>\n",
              "      <td>...</td>\n",
              "      <td>...</td>\n",
              "      <td>...</td>\n",
              "      <td>...</td>\n",
              "      <td>...</td>\n",
              "      <td>...</td>\n",
              "      <td>...</td>\n",
              "      <td>...</td>\n",
              "      <td>...</td>\n",
              "      <td>...</td>\n",
              "      <td>...</td>\n",
              "      <td>...</td>\n",
              "      <td>...</td>\n",
              "      <td>...</td>\n",
              "      <td>...</td>\n",
              "      <td>...</td>\n",
              "      <td>...</td>\n",
              "      <td>...</td>\n",
              "      <td>...</td>\n",
              "      <td>...</td>\n",
              "      <td>...</td>\n",
              "      <td>...</td>\n",
              "      <td>...</td>\n",
              "      <td>...</td>\n",
              "      <td>...</td>\n",
              "      <td>...</td>\n",
              "      <td>...</td>\n",
              "      <td>...</td>\n",
              "      <td>...</td>\n",
              "      <td>...</td>\n",
              "      <td>...</td>\n",
              "      <td>...</td>\n",
              "      <td>...</td>\n",
              "      <td>...</td>\n",
              "      <td>...</td>\n",
              "      <td>...</td>\n",
              "      <td>...</td>\n",
              "      <td>...</td>\n",
              "      <td>...</td>\n",
              "      <td>...</td>\n",
              "      <td>...</td>\n",
              "      <td>...</td>\n",
              "      <td>...</td>\n",
              "      <td>...</td>\n",
              "      <td>...</td>\n",
              "      <td>...</td>\n",
              "      <td>...</td>\n",
              "      <td>...</td>\n",
              "      <td>...</td>\n",
              "      <td>...</td>\n",
              "      <td>...</td>\n",
              "      <td>...</td>\n",
              "      <td>...</td>\n",
              "      <td>...</td>\n",
              "    </tr>\n",
              "    <tr>\n",
              "      <th>Q8N1W1</th>\n",
              "      <td>0</td>\n",
              "      <td>0</td>\n",
              "      <td>0</td>\n",
              "      <td>0</td>\n",
              "      <td>0</td>\n",
              "      <td>0</td>\n",
              "      <td>0</td>\n",
              "      <td>0</td>\n",
              "      <td>0</td>\n",
              "      <td>0</td>\n",
              "      <td>0</td>\n",
              "      <td>0</td>\n",
              "      <td>0</td>\n",
              "      <td>0</td>\n",
              "      <td>0</td>\n",
              "      <td>0</td>\n",
              "      <td>0</td>\n",
              "      <td>0</td>\n",
              "      <td>0</td>\n",
              "      <td>0</td>\n",
              "      <td>0</td>\n",
              "      <td>0</td>\n",
              "      <td>0</td>\n",
              "      <td>0</td>\n",
              "      <td>0</td>\n",
              "      <td>0</td>\n",
              "      <td>0</td>\n",
              "      <td>0</td>\n",
              "      <td>0</td>\n",
              "      <td>0</td>\n",
              "      <td>1</td>\n",
              "      <td>0</td>\n",
              "      <td>0</td>\n",
              "      <td>1</td>\n",
              "      <td>0</td>\n",
              "      <td>0</td>\n",
              "      <td>0</td>\n",
              "      <td>0</td>\n",
              "      <td>0</td>\n",
              "      <td>0</td>\n",
              "      <td>0</td>\n",
              "      <td>0</td>\n",
              "      <td>0</td>\n",
              "      <td>0</td>\n",
              "      <td>0</td>\n",
              "      <td>0</td>\n",
              "      <td>0</td>\n",
              "      <td>0</td>\n",
              "      <td>0</td>\n",
              "      <td>0</td>\n",
              "      <td>0</td>\n",
              "      <td>0</td>\n",
              "      <td>0</td>\n",
              "      <td>0</td>\n",
              "      <td>0</td>\n",
              "      <td>0</td>\n",
              "      <td>0</td>\n",
              "      <td>0</td>\n",
              "      <td>0</td>\n",
              "      <td>0</td>\n",
              "      <td>0</td>\n",
              "      <td>0</td>\n",
              "      <td>0</td>\n",
              "      <td>0</td>\n",
              "      <td>0</td>\n",
              "      <td>0</td>\n",
              "      <td>0</td>\n",
              "      <td>0</td>\n",
              "      <td>0</td>\n",
              "      <td>0</td>\n",
              "    </tr>\n",
              "    <tr>\n",
              "      <th>A0A0A0MSL8</th>\n",
              "      <td>0</td>\n",
              "      <td>0</td>\n",
              "      <td>0</td>\n",
              "      <td>0</td>\n",
              "      <td>0</td>\n",
              "      <td>0</td>\n",
              "      <td>0</td>\n",
              "      <td>0</td>\n",
              "      <td>0</td>\n",
              "      <td>0</td>\n",
              "      <td>0</td>\n",
              "      <td>0</td>\n",
              "      <td>0</td>\n",
              "      <td>0</td>\n",
              "      <td>0</td>\n",
              "      <td>0</td>\n",
              "      <td>0</td>\n",
              "      <td>0</td>\n",
              "      <td>0</td>\n",
              "      <td>0</td>\n",
              "      <td>0</td>\n",
              "      <td>0</td>\n",
              "      <td>0</td>\n",
              "      <td>0</td>\n",
              "      <td>0</td>\n",
              "      <td>0</td>\n",
              "      <td>0</td>\n",
              "      <td>0</td>\n",
              "      <td>0</td>\n",
              "      <td>0</td>\n",
              "      <td>1</td>\n",
              "      <td>0</td>\n",
              "      <td>0</td>\n",
              "      <td>0</td>\n",
              "      <td>0</td>\n",
              "      <td>0</td>\n",
              "      <td>0</td>\n",
              "      <td>0</td>\n",
              "      <td>0</td>\n",
              "      <td>0</td>\n",
              "      <td>0</td>\n",
              "      <td>0</td>\n",
              "      <td>0</td>\n",
              "      <td>0</td>\n",
              "      <td>0</td>\n",
              "      <td>0</td>\n",
              "      <td>0</td>\n",
              "      <td>0</td>\n",
              "      <td>0</td>\n",
              "      <td>0</td>\n",
              "      <td>0</td>\n",
              "      <td>0</td>\n",
              "      <td>0</td>\n",
              "      <td>0</td>\n",
              "      <td>0</td>\n",
              "      <td>0</td>\n",
              "      <td>0</td>\n",
              "      <td>0</td>\n",
              "      <td>0</td>\n",
              "      <td>0</td>\n",
              "      <td>0</td>\n",
              "      <td>0</td>\n",
              "      <td>0</td>\n",
              "      <td>0</td>\n",
              "      <td>0</td>\n",
              "      <td>0</td>\n",
              "      <td>0</td>\n",
              "      <td>0</td>\n",
              "      <td>0</td>\n",
              "      <td>0</td>\n",
              "    </tr>\n",
              "    <tr>\n",
              "      <th>P20930</th>\n",
              "      <td>0</td>\n",
              "      <td>0</td>\n",
              "      <td>0</td>\n",
              "      <td>0</td>\n",
              "      <td>0</td>\n",
              "      <td>0</td>\n",
              "      <td>0</td>\n",
              "      <td>0</td>\n",
              "      <td>0</td>\n",
              "      <td>0</td>\n",
              "      <td>0</td>\n",
              "      <td>0</td>\n",
              "      <td>0</td>\n",
              "      <td>0</td>\n",
              "      <td>0</td>\n",
              "      <td>0</td>\n",
              "      <td>0</td>\n",
              "      <td>0</td>\n",
              "      <td>0</td>\n",
              "      <td>0</td>\n",
              "      <td>0</td>\n",
              "      <td>0</td>\n",
              "      <td>0</td>\n",
              "      <td>0</td>\n",
              "      <td>0</td>\n",
              "      <td>0</td>\n",
              "      <td>0</td>\n",
              "      <td>0</td>\n",
              "      <td>0</td>\n",
              "      <td>0</td>\n",
              "      <td>2</td>\n",
              "      <td>0</td>\n",
              "      <td>0</td>\n",
              "      <td>0</td>\n",
              "      <td>0</td>\n",
              "      <td>0</td>\n",
              "      <td>0</td>\n",
              "      <td>0</td>\n",
              "      <td>0</td>\n",
              "      <td>0</td>\n",
              "      <td>0</td>\n",
              "      <td>0</td>\n",
              "      <td>0</td>\n",
              "      <td>0</td>\n",
              "      <td>0</td>\n",
              "      <td>0</td>\n",
              "      <td>0</td>\n",
              "      <td>0</td>\n",
              "      <td>0</td>\n",
              "      <td>0</td>\n",
              "      <td>0</td>\n",
              "      <td>0</td>\n",
              "      <td>0</td>\n",
              "      <td>0</td>\n",
              "      <td>0</td>\n",
              "      <td>0</td>\n",
              "      <td>0</td>\n",
              "      <td>0</td>\n",
              "      <td>0</td>\n",
              "      <td>0</td>\n",
              "      <td>0</td>\n",
              "      <td>0</td>\n",
              "      <td>0</td>\n",
              "      <td>0</td>\n",
              "      <td>0</td>\n",
              "      <td>0</td>\n",
              "      <td>0</td>\n",
              "      <td>0</td>\n",
              "      <td>0</td>\n",
              "      <td>0</td>\n",
              "    </tr>\n",
              "    <tr>\n",
              "      <th>A0A1B0GTG1</th>\n",
              "      <td>0</td>\n",
              "      <td>0</td>\n",
              "      <td>0</td>\n",
              "      <td>0</td>\n",
              "      <td>0</td>\n",
              "      <td>0</td>\n",
              "      <td>0</td>\n",
              "      <td>0</td>\n",
              "      <td>0</td>\n",
              "      <td>0</td>\n",
              "      <td>0</td>\n",
              "      <td>0</td>\n",
              "      <td>0</td>\n",
              "      <td>0</td>\n",
              "      <td>0</td>\n",
              "      <td>0</td>\n",
              "      <td>0</td>\n",
              "      <td>0</td>\n",
              "      <td>0</td>\n",
              "      <td>0</td>\n",
              "      <td>0</td>\n",
              "      <td>0</td>\n",
              "      <td>0</td>\n",
              "      <td>0</td>\n",
              "      <td>0</td>\n",
              "      <td>0</td>\n",
              "      <td>0</td>\n",
              "      <td>0</td>\n",
              "      <td>0</td>\n",
              "      <td>0</td>\n",
              "      <td>0</td>\n",
              "      <td>0</td>\n",
              "      <td>0</td>\n",
              "      <td>1</td>\n",
              "      <td>0</td>\n",
              "      <td>0</td>\n",
              "      <td>0</td>\n",
              "      <td>0</td>\n",
              "      <td>0</td>\n",
              "      <td>0</td>\n",
              "      <td>0</td>\n",
              "      <td>0</td>\n",
              "      <td>0</td>\n",
              "      <td>0</td>\n",
              "      <td>0</td>\n",
              "      <td>0</td>\n",
              "      <td>0</td>\n",
              "      <td>0</td>\n",
              "      <td>0</td>\n",
              "      <td>0</td>\n",
              "      <td>0</td>\n",
              "      <td>0</td>\n",
              "      <td>0</td>\n",
              "      <td>0</td>\n",
              "      <td>0</td>\n",
              "      <td>0</td>\n",
              "      <td>0</td>\n",
              "      <td>0</td>\n",
              "      <td>0</td>\n",
              "      <td>0</td>\n",
              "      <td>0</td>\n",
              "      <td>0</td>\n",
              "      <td>0</td>\n",
              "      <td>0</td>\n",
              "      <td>0</td>\n",
              "      <td>0</td>\n",
              "      <td>0</td>\n",
              "      <td>0</td>\n",
              "      <td>0</td>\n",
              "      <td>0</td>\n",
              "    </tr>\n",
              "    <tr>\n",
              "      <th>Q12923</th>\n",
              "      <td>0</td>\n",
              "      <td>0</td>\n",
              "      <td>0</td>\n",
              "      <td>0</td>\n",
              "      <td>0</td>\n",
              "      <td>0</td>\n",
              "      <td>0</td>\n",
              "      <td>0</td>\n",
              "      <td>0</td>\n",
              "      <td>0</td>\n",
              "      <td>0</td>\n",
              "      <td>0</td>\n",
              "      <td>0</td>\n",
              "      <td>0</td>\n",
              "      <td>0</td>\n",
              "      <td>0</td>\n",
              "      <td>0</td>\n",
              "      <td>0</td>\n",
              "      <td>0</td>\n",
              "      <td>0</td>\n",
              "      <td>0</td>\n",
              "      <td>0</td>\n",
              "      <td>0</td>\n",
              "      <td>0</td>\n",
              "      <td>0</td>\n",
              "      <td>0</td>\n",
              "      <td>0</td>\n",
              "      <td>0</td>\n",
              "      <td>0</td>\n",
              "      <td>0</td>\n",
              "      <td>0</td>\n",
              "      <td>0</td>\n",
              "      <td>0</td>\n",
              "      <td>2</td>\n",
              "      <td>0</td>\n",
              "      <td>0</td>\n",
              "      <td>0</td>\n",
              "      <td>0</td>\n",
              "      <td>0</td>\n",
              "      <td>0</td>\n",
              "      <td>0</td>\n",
              "      <td>0</td>\n",
              "      <td>0</td>\n",
              "      <td>0</td>\n",
              "      <td>0</td>\n",
              "      <td>0</td>\n",
              "      <td>0</td>\n",
              "      <td>0</td>\n",
              "      <td>0</td>\n",
              "      <td>0</td>\n",
              "      <td>0</td>\n",
              "      <td>0</td>\n",
              "      <td>0</td>\n",
              "      <td>0</td>\n",
              "      <td>0</td>\n",
              "      <td>0</td>\n",
              "      <td>0</td>\n",
              "      <td>0</td>\n",
              "      <td>0</td>\n",
              "      <td>0</td>\n",
              "      <td>0</td>\n",
              "      <td>0</td>\n",
              "      <td>0</td>\n",
              "      <td>0</td>\n",
              "      <td>0</td>\n",
              "      <td>0</td>\n",
              "      <td>0</td>\n",
              "      <td>0</td>\n",
              "      <td>0</td>\n",
              "      <td>0</td>\n",
              "    </tr>\n",
              "  </tbody>\n",
              "</table>\n",
              "<p>5254 rows × 70 columns</p>\n",
              "</div>"
            ],
            "text/plain": [
              "            3055     3218     3702     ...  515635   665079   1111708\n",
              "Q8ND71            0        0        0  ...        0        0        0\n",
              "P15170            1        0        0  ...        0        1        0\n",
              "Q6ZNB7            0        0        0  ...        0        0        0\n",
              "A6NK44            0        0        2  ...        0        1        0\n",
              "A5YM72            1        0        0  ...        0        1        0\n",
              "...             ...      ...      ...  ...      ...      ...      ...\n",
              "Q8N1W1            0        0        0  ...        0        0        0\n",
              "A0A0A0MSL8        0        0        0  ...        0        0        0\n",
              "P20930            0        0        0  ...        0        0        0\n",
              "A0A1B0GTG1        0        0        0  ...        0        0        0\n",
              "Q12923            0        0        0  ...        0        0        0\n",
              "\n",
              "[5254 rows x 70 columns]"
            ]
          },
          "metadata": {
            "tags": []
          },
          "execution_count": 54
        }
      ]
    },
    {
      "cell_type": "markdown",
      "metadata": {
        "id": "w2SsIiSx0p0N"
      },
      "source": [
        "## GO assignment"
      ]
    },
    {
      "cell_type": "markdown",
      "metadata": {
        "id": "rju4xu5XxDrv"
      },
      "source": [
        "#Phylogenetic Profiling (PP)\r\n"
      ]
    },
    {
      "cell_type": "markdown",
      "metadata": {
        "id": "2HO-iqaRSjIM"
      },
      "source": [
        "## Some visualization"
      ]
    },
    {
      "cell_type": "code",
      "metadata": {
        "id": "KfH3PXGjlSx8",
        "colab": {
          "base_uri": "https://localhost:8080/"
        },
        "outputId": "8c5651a5-09e8-437d-dfa5-38e25031381d"
      },
      "source": [
        "#orthologs_counts_matrix[orthologs_counts_matrix[7739]>10] # 7739 has a high number of orthologs\r\n",
        "# Maximum value found in the dataset:\r\n",
        "orthologs_counts_matrix.max().max()"
      ],
      "execution_count": null,
      "outputs": [
        {
          "output_type": "execute_result",
          "data": {
            "text/plain": [
              "196"
            ]
          },
          "metadata": {
            "tags": []
          },
          "execution_count": 56
        }
      ]
    },
    {
      "cell_type": "code",
      "metadata": {
        "id": "TMEiIMraSiEO",
        "colab": {
          "base_uri": "https://localhost:8080/",
          "height": 281
        },
        "outputId": "c7e5e243-973c-4b5d-a25a-06c273482ec7"
      },
      "source": [
        "import seaborn as sb\r\n",
        "import matplotlib.pyplot as plt\r\n",
        "\r\n",
        "sb.set(font_scale=0.25) # So that all the x labels can fit within the graph\r\n",
        "heat_map = sb.heatmap(orthologs_counts_matrix, cmap=\"Reds\",  yticklabels=False, vmin=0, vmax=4) # The max nº of orthologs that has been found is 196, so we need to cut this off in order to have a good visualization\r\n",
        "#plt.figure(figsize=(16,9))\r\n",
        "# plt.tight_layout() # For avoiding matplot from saving the image with x label cut off\r\n",
        "# Change fontsize of the color bar \r\n",
        "colorbar = heat_map.collections[0].colorbar\r\n",
        "colorbar.ax.tick_params(labelsize=8)\r\n",
        "plt.ylabel('Human proteins')\r\n",
        "plt.xlabel(\"Species taxIDs\")\r\n",
        "plt.savefig('drive/MyDrive/TFG/orthologs_counts_heatmap.png', dpi=300)\r\n",
        "plt.show()\r\n"
      ],
      "execution_count": null,
      "outputs": [
        {
          "output_type": "display_data",
          "data": {
            "image/png": "[encoded data removed]",
            "text/plain": [
              "<Figure size 432x288 with 2 Axes>"
            ]
          },
          "metadata": {
            "tags": []
          }
        }
      ]
    },
    {
      "cell_type": "markdown",
      "metadata": {
        "id": "m2l6vk8XF5_w"
      },
      "source": [
        "## With distance metrics \r\n",
        "\r\n",
        "Any of the differente distance metrics (cosine, hammington, hamming..) will be used for directly assign pair-wise comparison of the vectors"
      ]
    },
    {
      "cell_type": "code",
      "metadata": {
        "id": "skFCvJ4CxRSo"
      },
      "source": [
        ""
      ],
      "execution_count": null,
      "outputs": []
    },
    {
      "cell_type": "markdown",
      "metadata": {
        "id": "rfQjwBAou27B"
      },
      "source": [
        "## With clustering methods\r\n",
        "\r\n",
        "Remember that clustering is part of Unsupervised Machine Learning"
      ]
    },
    {
      "cell_type": "markdown",
      "metadata": {
        "id": "hyjlKLFUu7vw"
      },
      "source": [
        "### K-means"
      ]
    },
    {
      "cell_type": "code",
      "metadata": {
        "colab": {
          "base_uri": "https://localhost:8080/"
        },
        "id": "6Dqj08C-u-c7",
        "outputId": "8a845531-20c1-4100-9e2a-4c9ff19b63af"
      },
      "source": [
        "import pandas as pd\r\n",
        "from sklearn.cluster import KMeans\r\n",
        "from sklearn.preprocessing import StandardScaler\r\n",
        "\r\n",
        "orthologs_counts_matrix = pd.read_csv(\"drive/MyDrive/TFG/orthologs_counts_matrix.tsv\", sep=\"\\t\", header=0, index_col=0)\r\n",
        "orthologs_counts_matrix.head()\r\n",
        "\r\n",
        "X_std = StandardScaler().fit_transform(orthologs_counts_matrix)\r\n",
        "kmeans = KMeans(n_clusters=10, random_state=0)\r\n",
        "clusters = kmeans.fit_predict(X_std)\r\n",
        "clusters"
      ],
      "execution_count": 30,
      "outputs": [
        {
          "output_type": "execute_result",
          "data": {
            "text/plain": [
              "array([1, 2, 4, ..., 1, 1, 1], dtype=int32)"
            ]
          },
          "metadata": {
            "tags": []
          },
          "execution_count": 30
        }
      ]
    },
    {
      "cell_type": "markdown",
      "metadata": {
        "id": "T7th3vlx1Jfm"
      },
      "source": [
        "#### Visualizing with PCA"
      ]
    },
    {
      "cell_type": "code",
      "metadata": {
        "id": "vpVlxwkf1FhI",
        "outputId": "7269fedf-e69f-4da0-abe9-9d5f83c25742",
        "colab": {
          "base_uri": "https://localhost:8080/",
          "height": 296
        }
      },
      "source": [
        "# Credits: https://medium.com/@dmitriy.kavyazin/principal-component-analysis-and-k-means-clustering-to-visualize-a-high-dimensional-dataset-577b2a7a5fe2\r\n",
        "\r\n",
        "import matplotlib.pyplot as plt\r\n",
        "from sklearn.decomposition import PCA \r\n",
        "from sklearn.preprocessing import StandardScaler\r\n",
        "\r\n",
        "# Standardize the data to have a mean of ~0 and a variance of 1\r\n",
        "X_std = StandardScaler().fit_transform(orthologs_counts_matrix)\r\n",
        "\r\n",
        "# Create a PCA instance: pca\r\n",
        "pca = PCA(n_components=2)\r\n",
        "principalComponents = pca.fit_transform(X_std)\r\n",
        "PCA_components = pd.DataFrame(principalComponents)\r\n",
        "plt.scatter(PCA_components[0], PCA_components[1], alpha=.1, color='black')\r\n",
        "plt.xlabel('PCA 1')\r\n",
        "plt.ylabel('PCA 2')\r\n"
      ],
      "execution_count": 29,
      "outputs": [
        {
          "output_type": "execute_result",
          "data": {
            "text/plain": [
              "Text(0, 0.5, 'PCA 2')"
            ]
          },
          "metadata": {
            "tags": []
          },
          "execution_count": 29
        },
        {
          "output_type": "display_data",
          "data": {
            "image/png": "[encoded data removed]",
            "text/plain": [
              "<Figure size 432x288 with 1 Axes>"
            ]
          },
          "metadata": {
            "tags": [],
            "needs_background": "light"
          }
        }
      ]
    },
    {
      "cell_type": "markdown",
      "metadata": {
        "id": "AybO603AwbEG"
      },
      "source": [
        "### Hierarchy clustering"
      ]
    },
    {
      "cell_type": "code",
      "metadata": {
        "id": "uk346fpswp6E"
      },
      "source": [
        ""
      ],
      "execution_count": null,
      "outputs": []
    },
    {
      "cell_type": "markdown",
      "metadata": {
        "id": "bGrJ40Sezp3v"
      },
      "source": [
        "# Supervise Machine Learning"
      ]
    },
    {
      "cell_type": "markdown",
      "metadata": {
        "id": "qIORDIJDrfLh"
      },
      "source": [
        "## With single classification models\r\n",
        "\r\n",
        "When a gene has several GO terms, they are reduced to just one: the Lowest Common Ancestor (LCA). "
      ]
    },
    {
      "cell_type": "code",
      "metadata": {
        "id": "byLNEAAErffO"
      },
      "source": [
        ""
      ],
      "execution_count": null,
      "outputs": []
    },
    {
      "cell_type": "markdown",
      "metadata": {
        "id": "xtuPqxn-rXsf"
      },
      "source": [
        "## With multi-label (various GO terms) classification models"
      ]
    },
    {
      "cell_type": "code",
      "metadata": {
        "id": "_Kz7mhFF0o-g"
      },
      "source": [
        ""
      ],
      "execution_count": null,
      "outputs": []
    }
  ]
}